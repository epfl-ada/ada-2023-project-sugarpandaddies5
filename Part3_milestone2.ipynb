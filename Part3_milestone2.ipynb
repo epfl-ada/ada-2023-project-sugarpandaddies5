{
 "cells": [
  {
   "cell_type": "markdown",
   "id": "d0e41a83",
   "metadata": {},
   "source": [
    "# Part 3 : Critical study of the Bechdel test"
   ]
  },
  {
   "cell_type": "markdown",
   "id": "65e4fbf9",
   "metadata": {},
   "source": [
    "# Step 3.1 : Quantity of actresses"
   ]
  },
  {
   "cell_type": "markdown",
   "id": "45cd9f7c",
   "metadata": {},
   "source": [
    "## Section 1: Import datas"
   ]
  },
  {
   "cell_type": "markdown",
   "id": "2851b2b8",
   "metadata": {},
   "source": [
    "In this task, we utilize the previously created 'merged_df.csv'. The objective is to examine the influence of the presence of actresses on movies that either pass or fail the Bechdel test. One of the conditions for the test is to have two female actresses engaging in a conversation. The questions we aim to answer are: Does having a greater number of actresses make it easier to pass the test? Conversely, do movies with fewer actresses tend to focus more on developing the interactions between the two characters, resulting in a higher likelihood of passing the test?"
   ]
  },
  {
   "cell_type": "code",
   "execution_count": 1,
   "id": "149592ad",
   "metadata": {},
   "outputs": [],
   "source": [
    "import pandas as pd\n",
    "import pandas as pd\n",
    "import numpy as np\n",
    "import matplotlib.pyplot as plt\n",
    "import seaborn as sns\n",
    "import networkx as nx\n",
    "%matplotlib inline"
   ]
  },
  {
   "cell_type": "code",
   "execution_count": 2,
   "id": "324a9ca1",
   "metadata": {},
   "outputs": [
    {
     "data": {
      "text/html": [
       "<div>\n",
       "<style scoped>\n",
       "    .dataframe tbody tr th:only-of-type {\n",
       "        vertical-align: middle;\n",
       "    }\n",
       "\n",
       "    .dataframe tbody tr th {\n",
       "        vertical-align: top;\n",
       "    }\n",
       "\n",
       "    .dataframe thead th {\n",
       "        text-align: right;\n",
       "    }\n",
       "</style>\n",
       "<table border=\"1\" class=\"dataframe\">\n",
       "  <thead>\n",
       "    <tr style=\"text-align: right;\">\n",
       "      <th></th>\n",
       "      <th>Unnamed: 0.1</th>\n",
       "      <th>Unnamed: 0</th>\n",
       "      <th>imdbid</th>\n",
       "      <th>year_x</th>\n",
       "      <th>rating</th>\n",
       "      <th>id</th>\n",
       "      <th>title</th>\n",
       "      <th>WikiID</th>\n",
       "      <th>Wikipedia movie ID</th>\n",
       "      <th>Freebase movie ID</th>\n",
       "      <th>Movie name</th>\n",
       "      <th>Movie release date</th>\n",
       "      <th>Movie box office revenue</th>\n",
       "      <th>Movie runtime</th>\n",
       "      <th>Movie languages (Freebase ID:name tuples)</th>\n",
       "      <th>Movie countries (Freebase ID:name tuples)</th>\n",
       "      <th>Movie genres (Freebase ID:name tuples)</th>\n",
       "      <th>year_y</th>\n",
       "    </tr>\n",
       "  </thead>\n",
       "  <tbody>\n",
       "    <tr>\n",
       "      <th>0</th>\n",
       "      <td>0</td>\n",
       "      <td>2</td>\n",
       "      <td>2221420.0</td>\n",
       "      <td>1878</td>\n",
       "      <td>0</td>\n",
       "      <td>9603</td>\n",
       "      <td>Sallie Gardner at a Gallop</td>\n",
       "      <td>26044155.0</td>\n",
       "      <td>26044155</td>\n",
       "      <td>/m/0b6f62m</td>\n",
       "      <td>Sallie Gardner at a Gallop</td>\n",
       "      <td>NaN</td>\n",
       "      <td>NaN</td>\n",
       "      <td>0.05</td>\n",
       "      <td>{\"/m/06ppq\": \"Silent film\"}</td>\n",
       "      <td>{\"/m/09c7w0\": \"United States of America\"}</td>\n",
       "      <td>{\"/m/02hmvc\": \"Short Film\", \"/m/06ppq\": \"Silen...</td>\n",
       "      <td>NaN</td>\n",
       "    </tr>\n",
       "    <tr>\n",
       "      <th>1</th>\n",
       "      <td>1</td>\n",
       "      <td>13</td>\n",
       "      <td>392728.0</td>\n",
       "      <td>1888</td>\n",
       "      <td>0</td>\n",
       "      <td>8040</td>\n",
       "      <td>Roundhay Garden Scene</td>\n",
       "      <td>1082508.0</td>\n",
       "      <td>1082508</td>\n",
       "      <td>/m/044ggd</td>\n",
       "      <td>Roundhay Garden Scene</td>\n",
       "      <td>NaN</td>\n",
       "      <td>NaN</td>\n",
       "      <td>0.03</td>\n",
       "      <td>{\"/m/06ppq\": \"Silent film\"}</td>\n",
       "      <td>{\"/m/07ssc\": \"United Kingdom\"}</td>\n",
       "      <td>{\"/m/02hmvc\": \"Short Film\", \"/m/06ppq\": \"Silen...</td>\n",
       "      <td>NaN</td>\n",
       "    </tr>\n",
       "    <tr>\n",
       "      <th>2</th>\n",
       "      <td>2</td>\n",
       "      <td>18</td>\n",
       "      <td>466876.0</td>\n",
       "      <td>1889</td>\n",
       "      <td>0</td>\n",
       "      <td>9619</td>\n",
       "      <td>Leisurely Pedestrians, Open Topped Buses and H...</td>\n",
       "      <td>12170539.0</td>\n",
       "      <td>12170539</td>\n",
       "      <td>/m/02vs8rb</td>\n",
       "      <td>Leisurely Pedestrians, Open Topped Buses and H...</td>\n",
       "      <td>NaN</td>\n",
       "      <td>NaN</td>\n",
       "      <td>NaN</td>\n",
       "      <td>{\"/m/06ppq\": \"Silent film\", \"/m/02h40lc\": \"Eng...</td>\n",
       "      <td>{\"/m/07ssc\": \"United Kingdom\"}</td>\n",
       "      <td>{\"/m/02hmvc\": \"Short Film\", \"/m/06ppq\": \"Silen...</td>\n",
       "      <td>NaN</td>\n",
       "    </tr>\n",
       "  </tbody>\n",
       "</table>\n",
       "</div>"
      ],
      "text/plain": [
       "   Unnamed: 0.1  Unnamed: 0     imdbid  year_x  rating    id  \\\n",
       "0             0           2  2221420.0    1878       0  9603   \n",
       "1             1          13   392728.0    1888       0  8040   \n",
       "2             2          18   466876.0    1889       0  9619   \n",
       "\n",
       "                                               title      WikiID  \\\n",
       "0                         Sallie Gardner at a Gallop  26044155.0   \n",
       "1                              Roundhay Garden Scene   1082508.0   \n",
       "2  Leisurely Pedestrians, Open Topped Buses and H...  12170539.0   \n",
       "\n",
       "   Wikipedia movie ID Freebase movie ID  \\\n",
       "0            26044155        /m/0b6f62m   \n",
       "1             1082508         /m/044ggd   \n",
       "2            12170539        /m/02vs8rb   \n",
       "\n",
       "                                          Movie name Movie release date  \\\n",
       "0                         Sallie Gardner at a Gallop                NaN   \n",
       "1                              Roundhay Garden Scene                NaN   \n",
       "2  Leisurely Pedestrians, Open Topped Buses and H...                NaN   \n",
       "\n",
       "   Movie box office revenue  Movie runtime  \\\n",
       "0                       NaN           0.05   \n",
       "1                       NaN           0.03   \n",
       "2                       NaN            NaN   \n",
       "\n",
       "           Movie languages (Freebase ID:name tuples)  \\\n",
       "0                        {\"/m/06ppq\": \"Silent film\"}   \n",
       "1                        {\"/m/06ppq\": \"Silent film\"}   \n",
       "2  {\"/m/06ppq\": \"Silent film\", \"/m/02h40lc\": \"Eng...   \n",
       "\n",
       "   Movie countries (Freebase ID:name tuples)  \\\n",
       "0  {\"/m/09c7w0\": \"United States of America\"}   \n",
       "1             {\"/m/07ssc\": \"United Kingdom\"}   \n",
       "2             {\"/m/07ssc\": \"United Kingdom\"}   \n",
       "\n",
       "              Movie genres (Freebase ID:name tuples)  year_y  \n",
       "0  {\"/m/02hmvc\": \"Short Film\", \"/m/06ppq\": \"Silen...     NaN  \n",
       "1  {\"/m/02hmvc\": \"Short Film\", \"/m/06ppq\": \"Silen...     NaN  \n",
       "2  {\"/m/02hmvc\": \"Short Film\", \"/m/06ppq\": \"Silen...     NaN  "
      ]
     },
     "execution_count": 2,
     "metadata": {},
     "output_type": "execute_result"
    }
   ],
   "source": [
    "data_folder = './'\n",
    "#df is the name of the main dataset (CMU dataset merged with bechdel test)\n",
    "df = pd.read_csv(data_folder + 'merged_df.csv', header=0)\n",
    "df.head(3)"
   ]
  },
  {
   "cell_type": "markdown",
   "id": "342f4084",
   "metadata": {},
   "source": [
    "We will also used the dataframe 'character.metadata.tsv' given in the CMU dataset. This allows to get the actors (names anf gender) and join them after to the main dataframe df"
   ]
  },
  {
   "cell_type": "code",
   "execution_count": 3,
   "id": "00943015",
   "metadata": {
    "scrolled": false
   },
   "outputs": [
    {
     "data": {
      "text/html": [
       "<div>\n",
       "<style scoped>\n",
       "    .dataframe tbody tr th:only-of-type {\n",
       "        vertical-align: middle;\n",
       "    }\n",
       "\n",
       "    .dataframe tbody tr th {\n",
       "        vertical-align: top;\n",
       "    }\n",
       "\n",
       "    .dataframe thead th {\n",
       "        text-align: right;\n",
       "    }\n",
       "</style>\n",
       "<table border=\"1\" class=\"dataframe\">\n",
       "  <thead>\n",
       "    <tr style=\"text-align: right;\">\n",
       "      <th></th>\n",
       "      <th>Wikipedia movie ID</th>\n",
       "      <th>Freebase movie ID</th>\n",
       "      <th>Movie release date</th>\n",
       "      <th>Character name</th>\n",
       "      <th>Actor date of birth</th>\n",
       "      <th>Actor gender</th>\n",
       "      <th>Actor height (in meters)</th>\n",
       "      <th>Actor ethnicity (Freebase ID)</th>\n",
       "      <th>Actor name</th>\n",
       "      <th>Actor age at movie release</th>\n",
       "      <th>Freebase character/actor map ID</th>\n",
       "      <th>Freebase character ID</th>\n",
       "      <th>Freebase actor ID</th>\n",
       "    </tr>\n",
       "  </thead>\n",
       "  <tbody>\n",
       "    <tr>\n",
       "      <th>0</th>\n",
       "      <td>975900</td>\n",
       "      <td>/m/03vyhn</td>\n",
       "      <td>2001-08-24</td>\n",
       "      <td>Lieutenant Melanie Ballard</td>\n",
       "      <td>1974-08-15</td>\n",
       "      <td>F</td>\n",
       "      <td>1.780</td>\n",
       "      <td>/m/044038p</td>\n",
       "      <td>Natasha Henstridge</td>\n",
       "      <td>27.0</td>\n",
       "      <td>/m/0jys3m</td>\n",
       "      <td>/m/0bgchn4</td>\n",
       "      <td>/m/0346l4</td>\n",
       "    </tr>\n",
       "    <tr>\n",
       "      <th>1</th>\n",
       "      <td>975900</td>\n",
       "      <td>/m/03vyhn</td>\n",
       "      <td>2001-08-24</td>\n",
       "      <td>Desolation Williams</td>\n",
       "      <td>1969-06-15</td>\n",
       "      <td>M</td>\n",
       "      <td>1.727</td>\n",
       "      <td>/m/0x67</td>\n",
       "      <td>Ice Cube</td>\n",
       "      <td>32.0</td>\n",
       "      <td>/m/0jys3g</td>\n",
       "      <td>/m/0bgchn_</td>\n",
       "      <td>/m/01vw26l</td>\n",
       "    </tr>\n",
       "    <tr>\n",
       "      <th>2</th>\n",
       "      <td>975900</td>\n",
       "      <td>/m/03vyhn</td>\n",
       "      <td>2001-08-24</td>\n",
       "      <td>Sgt Jericho Butler</td>\n",
       "      <td>1967-09-12</td>\n",
       "      <td>M</td>\n",
       "      <td>1.750</td>\n",
       "      <td>NaN</td>\n",
       "      <td>Jason Statham</td>\n",
       "      <td>33.0</td>\n",
       "      <td>/m/02vchl6</td>\n",
       "      <td>/m/0bgchnq</td>\n",
       "      <td>/m/034hyc</td>\n",
       "    </tr>\n",
       "  </tbody>\n",
       "</table>\n",
       "</div>"
      ],
      "text/plain": [
       "   Wikipedia movie ID Freebase movie ID Movie release date  \\\n",
       "0              975900         /m/03vyhn         2001-08-24   \n",
       "1              975900         /m/03vyhn         2001-08-24   \n",
       "2              975900         /m/03vyhn         2001-08-24   \n",
       "\n",
       "               Character name Actor date of birth Actor gender  \\\n",
       "0  Lieutenant Melanie Ballard          1974-08-15            F   \n",
       "1         Desolation Williams          1969-06-15            M   \n",
       "2          Sgt Jericho Butler          1967-09-12            M   \n",
       "\n",
       "   Actor height (in meters) Actor ethnicity (Freebase ID)          Actor name  \\\n",
       "0                     1.780                    /m/044038p  Natasha Henstridge   \n",
       "1                     1.727                       /m/0x67            Ice Cube   \n",
       "2                     1.750                           NaN       Jason Statham   \n",
       "\n",
       "   Actor age at movie release Freebase character/actor map ID  \\\n",
       "0                        27.0                       /m/0jys3m   \n",
       "1                        32.0                       /m/0jys3g   \n",
       "2                        33.0                      /m/02vchl6   \n",
       "\n",
       "  Freebase character ID Freebase actor ID  \n",
       "0            /m/0bgchn4         /m/0346l4  \n",
       "1            /m/0bgchn_        /m/01vw26l  \n",
       "2            /m/0bgchnq         /m/034hyc  "
      ]
     },
     "execution_count": 3,
     "metadata": {},
     "output_type": "execute_result"
    }
   ],
   "source": [
    "#dataframe of characters and their features by movies from CMU Movie Summary Corpus\n",
    "column_names = [\n",
    "    'Wikipedia movie ID',\n",
    "    'Freebase movie ID',\n",
    "    'Movie release date',\n",
    "    'Character name',\n",
    "    'Actor date of birth',\n",
    "    'Actor gender',\n",
    "    'Actor height (in meters)',\n",
    "    'Actor ethnicity (Freebase ID)',\n",
    "    'Actor name',\n",
    "    'Actor age at movie release',\n",
    "    'Freebase character/actor map ID',\n",
    "    'Freebase character ID',\n",
    "    'Freebase actor ID'\n",
    "]\n",
    "\n",
    "df_characters = pd.read_csv(data_folder + 'MovieSummaries/character.metadata.tsv', delimiter='\\t', quotechar='\"', names=column_names, header=0)\n",
    "df_characters.head(3)"
   ]
  },
  {
   "cell_type": "markdown",
   "id": "9ee2b109",
   "metadata": {},
   "source": [
    "## Section 2: Merge dataframes"
   ]
  },
  {
   "cell_type": "code",
   "execution_count": 4,
   "id": "c8316547",
   "metadata": {},
   "outputs": [],
   "source": [
    "#merge to the main dataframe to have actors and actress (names anf gender) for each movie\n",
    "df_characters_merged = pd.merge(df, df_characters[['Wikipedia movie ID', 'Actor name', 'Actor gender']], \n",
    "                                on=['Wikipedia movie ID'], \n",
    "                                how='right')\n",
    "\n",
    "#Drop characters associtated to movies we don't know \n",
    "df_characters_merged.dropna(subset=['title'], inplace=True)\n",
    "df_characters_merged = df_characters_merged.drop_duplicates(subset=['Wikipedia movie ID', 'Actor name'])\n",
    "\n",
    "#instead of ranking for Bechdel test we will only see if the movie pass the test or not\n",
    "df_characters_merged['Bechdel pass'] = np.where(df_characters_merged['rating'] == 3, 1, 0)"
   ]
  },
  {
   "cell_type": "code",
   "execution_count": 10,
   "id": "6d79e1e5",
   "metadata": {},
   "outputs": [
    {
     "data": {
      "text/html": [
       "<div>\n",
       "<style scoped>\n",
       "    .dataframe tbody tr th:only-of-type {\n",
       "        vertical-align: middle;\n",
       "    }\n",
       "\n",
       "    .dataframe tbody tr th {\n",
       "        vertical-align: top;\n",
       "    }\n",
       "\n",
       "    .dataframe thead th {\n",
       "        text-align: right;\n",
       "    }\n",
       "</style>\n",
       "<table border=\"1\" class=\"dataframe\">\n",
       "  <thead>\n",
       "    <tr style=\"text-align: right;\">\n",
       "      <th></th>\n",
       "      <th>Unnamed: 0.1</th>\n",
       "      <th>Unnamed: 0</th>\n",
       "      <th>imdbid</th>\n",
       "      <th>year_x</th>\n",
       "      <th>rating</th>\n",
       "      <th>id</th>\n",
       "      <th>title</th>\n",
       "      <th>WikiID</th>\n",
       "      <th>Wikipedia movie ID</th>\n",
       "      <th>Freebase movie ID</th>\n",
       "      <th>...</th>\n",
       "      <th>Movie release date</th>\n",
       "      <th>Movie box office revenue</th>\n",
       "      <th>Movie runtime</th>\n",
       "      <th>Movie languages (Freebase ID:name tuples)</th>\n",
       "      <th>Movie countries (Freebase ID:name tuples)</th>\n",
       "      <th>Movie genres (Freebase ID:name tuples)</th>\n",
       "      <th>year_y</th>\n",
       "      <th>Actor name</th>\n",
       "      <th>Actor gender</th>\n",
       "      <th>Bechdel pass</th>\n",
       "    </tr>\n",
       "  </thead>\n",
       "  <tbody>\n",
       "    <tr>\n",
       "      <th>0</th>\n",
       "      <td>3281.0</td>\n",
       "      <td>3984.0</td>\n",
       "      <td>228333.0</td>\n",
       "      <td>2001.0</td>\n",
       "      <td>3.0</td>\n",
       "      <td>333.0</td>\n",
       "      <td>Ghosts of Mars</td>\n",
       "      <td>975900.0</td>\n",
       "      <td>975900</td>\n",
       "      <td>/m/03vyhn</td>\n",
       "      <td>...</td>\n",
       "      <td>2001-08-24</td>\n",
       "      <td>14010832.0</td>\n",
       "      <td>98.0</td>\n",
       "      <td>{\"/m/02h40lc\": \"English Language\"}</td>\n",
       "      <td>{\"/m/09c7w0\": \"United States of America\"}</td>\n",
       "      <td>{\"/m/01jfsb\": \"Thriller\", \"/m/06n90\": \"Science...</td>\n",
       "      <td>2001.0</td>\n",
       "      <td>Natasha Henstridge</td>\n",
       "      <td>F</td>\n",
       "      <td>1</td>\n",
       "    </tr>\n",
       "    <tr>\n",
       "      <th>1</th>\n",
       "      <td>3281.0</td>\n",
       "      <td>3984.0</td>\n",
       "      <td>228333.0</td>\n",
       "      <td>2001.0</td>\n",
       "      <td>3.0</td>\n",
       "      <td>333.0</td>\n",
       "      <td>Ghosts of Mars</td>\n",
       "      <td>975900.0</td>\n",
       "      <td>975900</td>\n",
       "      <td>/m/03vyhn</td>\n",
       "      <td>...</td>\n",
       "      <td>2001-08-24</td>\n",
       "      <td>14010832.0</td>\n",
       "      <td>98.0</td>\n",
       "      <td>{\"/m/02h40lc\": \"English Language\"}</td>\n",
       "      <td>{\"/m/09c7w0\": \"United States of America\"}</td>\n",
       "      <td>{\"/m/01jfsb\": \"Thriller\", \"/m/06n90\": \"Science...</td>\n",
       "      <td>2001.0</td>\n",
       "      <td>Ice Cube</td>\n",
       "      <td>M</td>\n",
       "      <td>1</td>\n",
       "    </tr>\n",
       "    <tr>\n",
       "      <th>2</th>\n",
       "      <td>3281.0</td>\n",
       "      <td>3984.0</td>\n",
       "      <td>228333.0</td>\n",
       "      <td>2001.0</td>\n",
       "      <td>3.0</td>\n",
       "      <td>333.0</td>\n",
       "      <td>Ghosts of Mars</td>\n",
       "      <td>975900.0</td>\n",
       "      <td>975900</td>\n",
       "      <td>/m/03vyhn</td>\n",
       "      <td>...</td>\n",
       "      <td>2001-08-24</td>\n",
       "      <td>14010832.0</td>\n",
       "      <td>98.0</td>\n",
       "      <td>{\"/m/02h40lc\": \"English Language\"}</td>\n",
       "      <td>{\"/m/09c7w0\": \"United States of America\"}</td>\n",
       "      <td>{\"/m/01jfsb\": \"Thriller\", \"/m/06n90\": \"Science...</td>\n",
       "      <td>2001.0</td>\n",
       "      <td>Jason Statham</td>\n",
       "      <td>M</td>\n",
       "      <td>1</td>\n",
       "    </tr>\n",
       "  </tbody>\n",
       "</table>\n",
       "<p>3 rows × 21 columns</p>\n",
       "</div>"
      ],
      "text/plain": [
       "   Unnamed: 0.1  Unnamed: 0    imdbid  year_x  rating     id           title  \\\n",
       "0        3281.0      3984.0  228333.0  2001.0     3.0  333.0  Ghosts of Mars   \n",
       "1        3281.0      3984.0  228333.0  2001.0     3.0  333.0  Ghosts of Mars   \n",
       "2        3281.0      3984.0  228333.0  2001.0     3.0  333.0  Ghosts of Mars   \n",
       "\n",
       "     WikiID  Wikipedia movie ID Freebase movie ID  ... Movie release date  \\\n",
       "0  975900.0              975900         /m/03vyhn  ...         2001-08-24   \n",
       "1  975900.0              975900         /m/03vyhn  ...         2001-08-24   \n",
       "2  975900.0              975900         /m/03vyhn  ...         2001-08-24   \n",
       "\n",
       "  Movie box office revenue  Movie runtime  \\\n",
       "0               14010832.0           98.0   \n",
       "1               14010832.0           98.0   \n",
       "2               14010832.0           98.0   \n",
       "\n",
       "   Movie languages (Freebase ID:name tuples)  \\\n",
       "0         {\"/m/02h40lc\": \"English Language\"}   \n",
       "1         {\"/m/02h40lc\": \"English Language\"}   \n",
       "2         {\"/m/02h40lc\": \"English Language\"}   \n",
       "\n",
       "   Movie countries (Freebase ID:name tuples)  \\\n",
       "0  {\"/m/09c7w0\": \"United States of America\"}   \n",
       "1  {\"/m/09c7w0\": \"United States of America\"}   \n",
       "2  {\"/m/09c7w0\": \"United States of America\"}   \n",
       "\n",
       "              Movie genres (Freebase ID:name tuples)  year_y  \\\n",
       "0  {\"/m/01jfsb\": \"Thriller\", \"/m/06n90\": \"Science...  2001.0   \n",
       "1  {\"/m/01jfsb\": \"Thriller\", \"/m/06n90\": \"Science...  2001.0   \n",
       "2  {\"/m/01jfsb\": \"Thriller\", \"/m/06n90\": \"Science...  2001.0   \n",
       "\n",
       "           Actor name Actor gender Bechdel pass  \n",
       "0  Natasha Henstridge            F            1  \n",
       "1            Ice Cube            M            1  \n",
       "2       Jason Statham            M            1  \n",
       "\n",
       "[3 rows x 21 columns]"
      ]
     },
     "execution_count": 10,
     "metadata": {},
     "output_type": "execute_result"
    }
   ],
   "source": [
    "df_characters_merged.head(3)"
   ]
  },
  {
   "cell_type": "code",
   "execution_count": 6,
   "id": "b0f5f0e2",
   "metadata": {},
   "outputs": [
    {
     "data": {
      "text/plain": [
       "(71013, 21)"
      ]
     },
     "execution_count": 6,
     "metadata": {},
     "output_type": "execute_result"
    }
   ],
   "source": [
    "df_characters_merged.shape"
   ]
  },
  {
   "cell_type": "markdown",
   "id": "600cdb86",
   "metadata": {},
   "source": [
    "Now, we perform basic tests to verify that the data is usable. The dataset is substantial; we can afford to remove certain rows."
   ]
  },
  {
   "cell_type": "markdown",
   "id": "d260f3e2",
   "metadata": {},
   "source": [
    "### check for unknown gender"
   ]
  },
  {
   "cell_type": "code",
   "execution_count": 7,
   "id": "aea97ba2",
   "metadata": {},
   "outputs": [
    {
     "name": "stdout",
     "output_type": "stream",
     "text": [
      "['F' 'M' nan]\n",
      "Proportion de valeurs manquantes dans la colonne 'gender': 0.07759142692183121\n"
     ]
    }
   ],
   "source": [
    "unique_genders = df_characters_merged['Actor gender'].unique()\n",
    "print(unique_genders)\n",
    "\n",
    "na_proportion = df_characters_merged['Actor gender'].isna().mean()\n",
    "print(\"Proportion de valeurs manquantes dans la colonne 'gender':\", na_proportion)"
   ]
  },
  {
   "cell_type": "markdown",
   "id": "4b7d1b8b",
   "metadata": {},
   "source": [
    "We can see that the proportion of values is very low, so we can delete the rows in the dataframe where the gender is neither 'F' nor 'M'."
   ]
  },
  {
   "cell_type": "code",
   "execution_count": 8,
   "id": "b631686b",
   "metadata": {},
   "outputs": [
    {
     "name": "stdout",
     "output_type": "stream",
     "text": [
      "['F' 'M']\n"
     ]
    }
   ],
   "source": [
    "df_characters_merged.dropna(subset=['Actor gender'], inplace=True)\n",
    "unique_genders = df_characters_merged['Actor gender'].unique()\n",
    "print(unique_genders)"
   ]
  },
  {
   "cell_type": "markdown",
   "id": "90b0fe65",
   "metadata": {},
   "source": [
    "### Now, we want to add for each movie, the number and proportion of actress and actors"
   ]
  },
  {
   "cell_type": "code",
   "execution_count": 11,
   "id": "d84311d7",
   "metadata": {},
   "outputs": [],
   "source": [
    "#Group by 'Wikipedia movie ID' and count the occurrences of each gender\n",
    "gender_counts = df_characters_merged.groupby('Wikipedia movie ID')['Actor gender'].value_counts().unstack()\n",
    "\n",
    "# Calculate the proportion of female and male actors for each movie\n",
    "gender_proportion = gender_counts.div(gender_counts.sum(axis=1), axis=0)\n",
    "\n",
    "# Add the proportion columns to the original dataframe\n",
    "df_characters_merged = df_characters_merged.merge(gender_proportion, left_on='Wikipedia movie ID', right_index=True, how='left')\n",
    "df_characters_merged.rename(columns={'F': 'female_actor_proportion', 'M': 'male_actor_proportion'}, inplace=True)\n",
    "\n",
    "#Calculate the number of female and male actors for each movie\n",
    "gender_counts2 = df_characters_merged.groupby(['Wikipedia movie ID', 'Bechdel pass'])['Actor gender'].value_counts().unstack(fill_value=0)\n",
    "gender_counts2.columns = ['female_actresses','male_actors']\n",
    "gender_counts2.reset_index(inplace=True)\n",
    "\n",
    "# Merge the calculated counts back to the original DataFrame\n",
    "df_characters_merged = pd.merge(df_characters_merged, gender_counts2[['Wikipedia movie ID', 'Bechdel pass', 'male_actors', 'female_actresses']], on=['Wikipedia movie ID', 'Bechdel pass'], how='left')"
   ]
  },
  {
   "cell_type": "code",
   "execution_count": 12,
   "id": "a3e90311",
   "metadata": {},
   "outputs": [
    {
     "data": {
      "text/html": [
       "<div>\n",
       "<style scoped>\n",
       "    .dataframe tbody tr th:only-of-type {\n",
       "        vertical-align: middle;\n",
       "    }\n",
       "\n",
       "    .dataframe tbody tr th {\n",
       "        vertical-align: top;\n",
       "    }\n",
       "\n",
       "    .dataframe thead th {\n",
       "        text-align: right;\n",
       "    }\n",
       "</style>\n",
       "<table border=\"1\" class=\"dataframe\">\n",
       "  <thead>\n",
       "    <tr style=\"text-align: right;\">\n",
       "      <th></th>\n",
       "      <th>Unnamed: 0.1</th>\n",
       "      <th>Unnamed: 0</th>\n",
       "      <th>imdbid</th>\n",
       "      <th>year_x</th>\n",
       "      <th>rating</th>\n",
       "      <th>id</th>\n",
       "      <th>title</th>\n",
       "      <th>WikiID</th>\n",
       "      <th>Wikipedia movie ID</th>\n",
       "      <th>Freebase movie ID</th>\n",
       "      <th>...</th>\n",
       "      <th>Movie countries (Freebase ID:name tuples)</th>\n",
       "      <th>Movie genres (Freebase ID:name tuples)</th>\n",
       "      <th>year_y</th>\n",
       "      <th>Actor name</th>\n",
       "      <th>Actor gender</th>\n",
       "      <th>Bechdel pass</th>\n",
       "      <th>female_actor_proportion</th>\n",
       "      <th>male_actor_proportion</th>\n",
       "      <th>male_actors</th>\n",
       "      <th>female_actresses</th>\n",
       "    </tr>\n",
       "  </thead>\n",
       "  <tbody>\n",
       "    <tr>\n",
       "      <th>0</th>\n",
       "      <td>3281.0</td>\n",
       "      <td>3984.0</td>\n",
       "      <td>228333.0</td>\n",
       "      <td>2001.0</td>\n",
       "      <td>3.0</td>\n",
       "      <td>333.0</td>\n",
       "      <td>Ghosts of Mars</td>\n",
       "      <td>975900.0</td>\n",
       "      <td>975900</td>\n",
       "      <td>/m/03vyhn</td>\n",
       "      <td>...</td>\n",
       "      <td>{\"/m/09c7w0\": \"United States of America\"}</td>\n",
       "      <td>{\"/m/01jfsb\": \"Thriller\", \"/m/06n90\": \"Science...</td>\n",
       "      <td>2001.0</td>\n",
       "      <td>Natasha Henstridge</td>\n",
       "      <td>F</td>\n",
       "      <td>1</td>\n",
       "      <td>0.3125</td>\n",
       "      <td>0.6875</td>\n",
       "      <td>11</td>\n",
       "      <td>5</td>\n",
       "    </tr>\n",
       "    <tr>\n",
       "      <th>1</th>\n",
       "      <td>3281.0</td>\n",
       "      <td>3984.0</td>\n",
       "      <td>228333.0</td>\n",
       "      <td>2001.0</td>\n",
       "      <td>3.0</td>\n",
       "      <td>333.0</td>\n",
       "      <td>Ghosts of Mars</td>\n",
       "      <td>975900.0</td>\n",
       "      <td>975900</td>\n",
       "      <td>/m/03vyhn</td>\n",
       "      <td>...</td>\n",
       "      <td>{\"/m/09c7w0\": \"United States of America\"}</td>\n",
       "      <td>{\"/m/01jfsb\": \"Thriller\", \"/m/06n90\": \"Science...</td>\n",
       "      <td>2001.0</td>\n",
       "      <td>Ice Cube</td>\n",
       "      <td>M</td>\n",
       "      <td>1</td>\n",
       "      <td>0.3125</td>\n",
       "      <td>0.6875</td>\n",
       "      <td>11</td>\n",
       "      <td>5</td>\n",
       "    </tr>\n",
       "    <tr>\n",
       "      <th>2</th>\n",
       "      <td>3281.0</td>\n",
       "      <td>3984.0</td>\n",
       "      <td>228333.0</td>\n",
       "      <td>2001.0</td>\n",
       "      <td>3.0</td>\n",
       "      <td>333.0</td>\n",
       "      <td>Ghosts of Mars</td>\n",
       "      <td>975900.0</td>\n",
       "      <td>975900</td>\n",
       "      <td>/m/03vyhn</td>\n",
       "      <td>...</td>\n",
       "      <td>{\"/m/09c7w0\": \"United States of America\"}</td>\n",
       "      <td>{\"/m/01jfsb\": \"Thriller\", \"/m/06n90\": \"Science...</td>\n",
       "      <td>2001.0</td>\n",
       "      <td>Jason Statham</td>\n",
       "      <td>M</td>\n",
       "      <td>1</td>\n",
       "      <td>0.3125</td>\n",
       "      <td>0.6875</td>\n",
       "      <td>11</td>\n",
       "      <td>5</td>\n",
       "    </tr>\n",
       "  </tbody>\n",
       "</table>\n",
       "<p>3 rows × 25 columns</p>\n",
       "</div>"
      ],
      "text/plain": [
       "   Unnamed: 0.1  Unnamed: 0    imdbid  year_x  rating     id           title  \\\n",
       "0        3281.0      3984.0  228333.0  2001.0     3.0  333.0  Ghosts of Mars   \n",
       "1        3281.0      3984.0  228333.0  2001.0     3.0  333.0  Ghosts of Mars   \n",
       "2        3281.0      3984.0  228333.0  2001.0     3.0  333.0  Ghosts of Mars   \n",
       "\n",
       "     WikiID  Wikipedia movie ID Freebase movie ID  ...  \\\n",
       "0  975900.0              975900         /m/03vyhn  ...   \n",
       "1  975900.0              975900         /m/03vyhn  ...   \n",
       "2  975900.0              975900         /m/03vyhn  ...   \n",
       "\n",
       "   Movie countries (Freebase ID:name tuples)  \\\n",
       "0  {\"/m/09c7w0\": \"United States of America\"}   \n",
       "1  {\"/m/09c7w0\": \"United States of America\"}   \n",
       "2  {\"/m/09c7w0\": \"United States of America\"}   \n",
       "\n",
       "              Movie genres (Freebase ID:name tuples)  year_y  \\\n",
       "0  {\"/m/01jfsb\": \"Thriller\", \"/m/06n90\": \"Science...  2001.0   \n",
       "1  {\"/m/01jfsb\": \"Thriller\", \"/m/06n90\": \"Science...  2001.0   \n",
       "2  {\"/m/01jfsb\": \"Thriller\", \"/m/06n90\": \"Science...  2001.0   \n",
       "\n",
       "           Actor name Actor gender Bechdel pass female_actor_proportion  \\\n",
       "0  Natasha Henstridge            F            1                  0.3125   \n",
       "1            Ice Cube            M            1                  0.3125   \n",
       "2       Jason Statham            M            1                  0.3125   \n",
       "\n",
       "   male_actor_proportion male_actors female_actresses  \n",
       "0                 0.6875          11                5  \n",
       "1                 0.6875          11                5  \n",
       "2                 0.6875          11                5  \n",
       "\n",
       "[3 rows x 25 columns]"
      ]
     },
     "execution_count": 12,
     "metadata": {},
     "output_type": "execute_result"
    }
   ],
   "source": [
    "df_characters_merged.head(3)"
   ]
  },
  {
   "cell_type": "code",
   "execution_count": 13,
   "id": "282f5192",
   "metadata": {},
   "outputs": [],
   "source": [
    "#dataframe grouped by movies\n",
    "df_characters_merged_bymovie = df_characters_merged.groupby('Wikipedia movie ID').first().reset_index()"
   ]
  },
  {
   "cell_type": "code",
   "execution_count": 14,
   "id": "a646e5cf",
   "metadata": {},
   "outputs": [
    {
     "data": {
      "text/html": [
       "<div>\n",
       "<style scoped>\n",
       "    .dataframe tbody tr th:only-of-type {\n",
       "        vertical-align: middle;\n",
       "    }\n",
       "\n",
       "    .dataframe tbody tr th {\n",
       "        vertical-align: top;\n",
       "    }\n",
       "\n",
       "    .dataframe thead th {\n",
       "        text-align: right;\n",
       "    }\n",
       "</style>\n",
       "<table border=\"1\" class=\"dataframe\">\n",
       "  <thead>\n",
       "    <tr style=\"text-align: right;\">\n",
       "      <th></th>\n",
       "      <th>Wikipedia movie ID</th>\n",
       "      <th>Unnamed: 0.1</th>\n",
       "      <th>Unnamed: 0</th>\n",
       "      <th>imdbid</th>\n",
       "      <th>year_x</th>\n",
       "      <th>rating</th>\n",
       "      <th>id</th>\n",
       "      <th>title</th>\n",
       "      <th>WikiID</th>\n",
       "      <th>Freebase movie ID</th>\n",
       "      <th>...</th>\n",
       "      <th>Movie countries (Freebase ID:name tuples)</th>\n",
       "      <th>Movie genres (Freebase ID:name tuples)</th>\n",
       "      <th>year_y</th>\n",
       "      <th>Actor name</th>\n",
       "      <th>Actor gender</th>\n",
       "      <th>Bechdel pass</th>\n",
       "      <th>female_actor_proportion</th>\n",
       "      <th>male_actor_proportion</th>\n",
       "      <th>male_actors</th>\n",
       "      <th>female_actresses</th>\n",
       "    </tr>\n",
       "  </thead>\n",
       "  <tbody>\n",
       "    <tr>\n",
       "      <th>0</th>\n",
       "      <td>330</td>\n",
       "      <td>2822.0</td>\n",
       "      <td>3427.0</td>\n",
       "      <td>115462.0</td>\n",
       "      <td>1997.0</td>\n",
       "      <td>3.0</td>\n",
       "      <td>1794.0</td>\n",
       "      <td>Actrius</td>\n",
       "      <td>330.0</td>\n",
       "      <td>/m/0ktn59</td>\n",
       "      <td>...</td>\n",
       "      <td>{\"/m/06mkj\": \"Spain\"}</td>\n",
       "      <td>{\"/m/07s9rl0\": \"Drama\", \"/m/01t_vv\": \"Comedy-d...</td>\n",
       "      <td>NaN</td>\n",
       "      <td>Rosa Maria Sardà</td>\n",
       "      <td>F</td>\n",
       "      <td>1</td>\n",
       "      <td>1.000000</td>\n",
       "      <td>NaN</td>\n",
       "      <td>0</td>\n",
       "      <td>4</td>\n",
       "    </tr>\n",
       "    <tr>\n",
       "      <th>1</th>\n",
       "      <td>3217</td>\n",
       "      <td>2310.0</td>\n",
       "      <td>2829.0</td>\n",
       "      <td>106308.0</td>\n",
       "      <td>1992.0</td>\n",
       "      <td>2.0</td>\n",
       "      <td>1276.0</td>\n",
       "      <td>Army of Darkness</td>\n",
       "      <td>3217.0</td>\n",
       "      <td>/m/014hr</td>\n",
       "      <td>...</td>\n",
       "      <td>{\"/m/09c7w0\": \"United States of America\"}</td>\n",
       "      <td>{\"/m/01q03\": \"Cult\", \"/m/03npn\": \"Horror\", \"/m...</td>\n",
       "      <td>1992.0</td>\n",
       "      <td>Ted Raimi</td>\n",
       "      <td>M</td>\n",
       "      <td>0</td>\n",
       "      <td>0.300000</td>\n",
       "      <td>0.700000</td>\n",
       "      <td>7</td>\n",
       "      <td>3</td>\n",
       "    </tr>\n",
       "    <tr>\n",
       "      <th>2</th>\n",
       "      <td>3333</td>\n",
       "      <td>55.0</td>\n",
       "      <td>138.0</td>\n",
       "      <td>4972.0</td>\n",
       "      <td>1915.0</td>\n",
       "      <td>2.0</td>\n",
       "      <td>1258.0</td>\n",
       "      <td>Birth of a Nation, The</td>\n",
       "      <td>3333.0</td>\n",
       "      <td>/m/0151l</td>\n",
       "      <td>...</td>\n",
       "      <td>{\"/m/09c7w0\": \"United States of America\"}</td>\n",
       "      <td>{\"/m/06ppq\": \"Silent film\", \"/m/0219x_\": \"Indi...</td>\n",
       "      <td>NaN</td>\n",
       "      <td>Lillian Gish</td>\n",
       "      <td>F</td>\n",
       "      <td>0</td>\n",
       "      <td>0.428571</td>\n",
       "      <td>0.571429</td>\n",
       "      <td>8</td>\n",
       "      <td>6</td>\n",
       "    </tr>\n",
       "  </tbody>\n",
       "</table>\n",
       "<p>3 rows × 25 columns</p>\n",
       "</div>"
      ],
      "text/plain": [
       "   Wikipedia movie ID  Unnamed: 0.1  Unnamed: 0    imdbid  year_x  rating  \\\n",
       "0                 330        2822.0      3427.0  115462.0  1997.0     3.0   \n",
       "1                3217        2310.0      2829.0  106308.0  1992.0     2.0   \n",
       "2                3333          55.0       138.0    4972.0  1915.0     2.0   \n",
       "\n",
       "       id                   title  WikiID Freebase movie ID  ...  \\\n",
       "0  1794.0                 Actrius   330.0         /m/0ktn59  ...   \n",
       "1  1276.0        Army of Darkness  3217.0          /m/014hr  ...   \n",
       "2  1258.0  Birth of a Nation, The  3333.0          /m/0151l  ...   \n",
       "\n",
       "   Movie countries (Freebase ID:name tuples)  \\\n",
       "0                      {\"/m/06mkj\": \"Spain\"}   \n",
       "1  {\"/m/09c7w0\": \"United States of America\"}   \n",
       "2  {\"/m/09c7w0\": \"United States of America\"}   \n",
       "\n",
       "              Movie genres (Freebase ID:name tuples)  year_y  \\\n",
       "0  {\"/m/07s9rl0\": \"Drama\", \"/m/01t_vv\": \"Comedy-d...     NaN   \n",
       "1  {\"/m/01q03\": \"Cult\", \"/m/03npn\": \"Horror\", \"/m...  1992.0   \n",
       "2  {\"/m/06ppq\": \"Silent film\", \"/m/0219x_\": \"Indi...     NaN   \n",
       "\n",
       "         Actor name Actor gender Bechdel pass female_actor_proportion  \\\n",
       "0  Rosa Maria Sardà            F            1                1.000000   \n",
       "1         Ted Raimi            M            0                0.300000   \n",
       "2      Lillian Gish            F            0                0.428571   \n",
       "\n",
       "   male_actor_proportion male_actors female_actresses  \n",
       "0                    NaN           0                4  \n",
       "1               0.700000           7                3  \n",
       "2               0.571429           8                6  \n",
       "\n",
       "[3 rows x 25 columns]"
      ]
     },
     "execution_count": 14,
     "metadata": {},
     "output_type": "execute_result"
    }
   ],
   "source": [
    "df_characters_merged_bymovie.head(3)"
   ]
  },
  {
   "cell_type": "code",
   "execution_count": 15,
   "id": "fe119965",
   "metadata": {},
   "outputs": [
    {
     "name": "stdout",
     "output_type": "stream",
     "text": [
      "Ratio of lengths: 0.0448638063022966\n"
     ]
    }
   ],
   "source": [
    "#ratio of movies with less than two actress and pass the test \n",
    "df_characters_merged_bymovie_missing = df_characters_merged_bymovie[(df_characters_merged_bymovie['Bechdel pass'] == 1) & (df_characters_merged_bymovie['female_actresses'] < 2)]\n",
    "ratio = len(df_characters_merged_bymovie_missing) / len(df_characters_merged_bymovie)\n",
    "print(\"Ratio of lengths:\", ratio)"
   ]
  },
  {
   "cell_type": "markdown",
   "id": "2de7ad88",
   "metadata": {},
   "source": [
    "The ratio is indeed very low, but it is technically not possible to pass the test with fewer than two female actresses since they need to engage in a conversation. This is likely due to the incomplete nature of the dataset with the characters."
   ]
  },
  {
   "cell_type": "markdown",
   "id": "17aba631",
   "metadata": {},
   "source": [
    "## proportion of actress and Bechdel test "
   ]
  },
  {
   "cell_type": "code",
   "execution_count": 16,
   "id": "fb24b48f",
   "metadata": {},
   "outputs": [
    {
     "data": {
      "image/png": "[encoded data removed]",
      "text/plain": [
       "<Figure size 640x480 with 1 Axes>"
      ]
     },
     "metadata": {},
     "output_type": "display_data"
    }
   ],
   "source": [
    "# Calculate the mean of 'female_actor_proportion' for each group\n",
    "grouped_data = df_characters_merged.groupby(['Wikipedia movie ID', 'Bechdel pass'])['female_actor_proportion'].mean().reset_index()\n",
    "# Create a box plot \n",
    "sns.boxplot(x='Bechdel pass', y='female_actor_proportion', data=grouped_data)\n",
    "\n",
    "plt.xlabel('Bechdel pass')\n",
    "plt.ylabel('Female Actor Proportion')\n",
    "plt.title('Distribution of Female Actor Proportion in movies')\n",
    "plt.show()"
   ]
  },
  {
   "cell_type": "code",
   "execution_count": 17,
   "id": "c46e0209",
   "metadata": {},
   "outputs": [
    {
     "data": {
      "text/html": [
       "<div>\n",
       "<style scoped>\n",
       "    .dataframe tbody tr th:only-of-type {\n",
       "        vertical-align: middle;\n",
       "    }\n",
       "\n",
       "    .dataframe tbody tr th {\n",
       "        vertical-align: top;\n",
       "    }\n",
       "\n",
       "    .dataframe thead th {\n",
       "        text-align: right;\n",
       "    }\n",
       "</style>\n",
       "<table border=\"1\" class=\"dataframe\">\n",
       "  <thead>\n",
       "    <tr style=\"text-align: right;\">\n",
       "      <th></th>\n",
       "      <th>Wikipedia movie ID</th>\n",
       "      <th>Bechdel pass</th>\n",
       "      <th>female_actor_proportion</th>\n",
       "    </tr>\n",
       "  </thead>\n",
       "  <tbody>\n",
       "    <tr>\n",
       "      <th>0</th>\n",
       "      <td>330</td>\n",
       "      <td>1</td>\n",
       "      <td>1.000000</td>\n",
       "    </tr>\n",
       "    <tr>\n",
       "      <th>1</th>\n",
       "      <td>3217</td>\n",
       "      <td>0</td>\n",
       "      <td>0.300000</td>\n",
       "    </tr>\n",
       "    <tr>\n",
       "      <th>2</th>\n",
       "      <td>3333</td>\n",
       "      <td>0</td>\n",
       "      <td>0.428571</td>\n",
       "    </tr>\n",
       "  </tbody>\n",
       "</table>\n",
       "</div>"
      ],
      "text/plain": [
       "   Wikipedia movie ID  Bechdel pass  female_actor_proportion\n",
       "0                 330             1                 1.000000\n",
       "1                3217             0                 0.300000\n",
       "2                3333             0                 0.428571"
      ]
     },
     "execution_count": 17,
     "metadata": {},
     "output_type": "execute_result"
    }
   ],
   "source": [
    "grouped_data.head(3)"
   ]
  },
  {
   "cell_type": "markdown",
   "id": "99417101",
   "metadata": {},
   "source": [
    "In the next step for Milestone 3, we will conduct further investigations and tests to determine if this parameter is significant."
   ]
  },
  {
   "cell_type": "markdown",
   "id": "4adfadf7",
   "metadata": {},
   "source": [
    "Now, we can see the proportion of movies passing the Bechdel test among female_actresses == 2 and female_actresses > 2"
   ]
  },
  {
   "cell_type": "code",
   "execution_count": 18,
   "id": "547bb45d",
   "metadata": {
    "scrolled": true
   },
   "outputs": [
    {
     "name": "stdout",
     "output_type": "stream",
     "text": [
      "Proportion of movies passing the Bechdel test among female_actresses == 2: 0.4221267454350161\n",
      "Proportion of movies passing the Bechdel test among female_actresses > 2: 0.6491847826086956\n"
     ]
    }
   ],
   "source": [
    "# Filter the DataFrame where 'female_actresses' is equal to 2\n",
    "filtered_data = df_characters_merged_bymovie[df_characters_merged_bymovie['female_actresses'] == 2]\n",
    "filtered_data2 = df_characters_merged_bymovie[df_characters_merged_bymovie['female_actresses'] > 2]\n",
    "\n",
    "# Calculate the mean of 'female_actor_proportion' for each group\n",
    "filtered_data_pass_bechdel = filtered_data[filtered_data['Bechdel pass'] == 1]\n",
    "proportion_pass_bechdel = len(filtered_data_pass_bechdel) / len(filtered_data)\n",
    "\n",
    "filtered_data_pass_bechdel2 = filtered_data2[filtered_data2['Bechdel pass'] == 1]\n",
    "proportion_pass_bechdel2 = len(filtered_data_pass_bechdel2) / len(filtered_data2)\n",
    "\n",
    "print(\"Proportion of movies passing the Bechdel test among female_actresses == 2:\", proportion_pass_bechdel)\n",
    "print(\"Proportion of movies passing the Bechdel test among female_actresses > 2:\", proportion_pass_bechdel2)"
   ]
  },
  {
   "cell_type": "code",
   "execution_count": 19,
   "id": "68738e42",
   "metadata": {},
   "outputs": [
    {
     "name": "stdout",
     "output_type": "stream",
     "text": [
      "Proportion of movies with exactly 2 female characters among Bechdel test passed: 0.12953197099538563\n",
      "Proportion of movies with exactly 2 female characters among Bechdel test failed: 0.20828493999225706\n"
     ]
    }
   ],
   "source": [
    "# Filter the DataFrame where 'female_actresses' is equal to 2 and Bechdel test is passed\n",
    "filtered_data_pass_bechdel_2_female = df_characters_merged_bymovie[(df_characters_merged_bymovie['female_actresses'] == 2) & (df_characters_merged_bymovie['Bechdel pass'] == 1)]\n",
    "filtered_data_fail_bechdel_2_female = df_characters_merged_bymovie[(df_characters_merged_bymovie['female_actresses'] == 2) & (df_characters_merged_bymovie['Bechdel pass'] == 0)]\n",
    "\n",
    "# Calculate the proportion\n",
    "proportion_pass_bechdel_2_female = len(filtered_data_pass_bechdel_2_female) / len(df_characters_merged_bymovie[df_characters_merged_bymovie['Bechdel pass'] == 1])\n",
    "proportion_fail_bechdel_2_female = len(filtered_data_fail_bechdel_2_female) / len(df_characters_merged_bymovie[df_characters_merged_bymovie['Bechdel pass'] == 0])\n",
    "print(\"Proportion of movies with exactly 2 female characters among Bechdel test passed:\", proportion_pass_bechdel_2_female)\n",
    "print(\"Proportion of movies with exactly 2 female characters among Bechdel test failed:\", proportion_fail_bechdel_2_female)"
   ]
  },
  {
   "cell_type": "code",
   "execution_count": 22,
   "id": "29cfc598",
   "metadata": {},
   "outputs": [
    {
     "name": "stdout",
     "output_type": "stream",
     "text": [
      "Proportion of movies that pass the Bechdel test for 2 female actresses :  0.4221267454350161\n",
      "Proportion of movies that fail the Bechdel test for 2 female actresses :  0.5778732545649838\n"
     ]
    }
   ],
   "source": [
    "# Filter the DataFrame where 'female_actresses' is equal to 2 and Bechdel test is passed or not\n",
    "filtered_data_2_female = df_characters_merged_bymovie[(df_characters_merged_bymovie['female_actresses'] == 2)]\n",
    "filtered_data_2_female_pass = df_characters_merged_bymovie[(df_characters_merged_bymovie['female_actresses'] == 2) & (df_characters_merged_bymovie['Bechdel pass'] == 1)]\n",
    "filtered_data_2_female_fail = df_characters_merged_bymovie[(df_characters_merged_bymovie['female_actresses'] == 2) & (df_characters_merged_bymovie['Bechdel pass'] == 0)]\n",
    "\n",
    "# Calculate the proportion\n",
    "proportion_pass_bechdel_2_female = len(filtered_data_2_female_pass) / len(filtered_data_2_female)\n",
    "proportion_fail_bechdel_2_female = len(filtered_data_2_female_fail) / len(filtered_data_2_female)\n",
    "print(\"Proportion of movies that pass the Bechdel test for 2 female actresses : \", proportion_pass_bechdel_2_female)\n",
    "print(\"Proportion of movies that fail the Bechdel test for 2 female actresses : \", proportion_fail_bechdel_2_female)"
   ]
  },
  {
   "cell_type": "markdown",
   "id": "0db2ab27",
   "metadata": {},
   "source": [
    "We are also looking at the proportion of movies among those that pass the test that have only 2 female characters."
   ]
  },
  {
   "cell_type": "code",
   "execution_count": 23,
   "id": "0d901b32",
   "metadata": {},
   "outputs": [
    {
     "name": "stdout",
     "output_type": "stream",
     "text": [
      "Proportion of movies with exactly 2 female characters among Bechdel test passed: 0.12953197099538563\n",
      "Proportion of movies with more than 2 female characters among Bechdel test passed: 0.7874093605800923\n"
     ]
    }
   ],
   "source": [
    "# Filter the DataFrame where 'female_actresses' is equal to 2 and Bechdel test is passed\n",
    "filtered_data_pass = df_characters_merged_bymovie[(df_characters_merged_bymovie['Bechdel pass'] == 1)]\n",
    "# Calculate the proportion\n",
    "proportion_pass_bechdel_2_female = len(filtered_data_pass[filtered_data_pass['female_actresses'] == 2]) / len(filtered_data_pass)\n",
    "proportion_pass_bechdel_female = len(filtered_data_pass[filtered_data_pass['female_actresses'] > 2]) / len(filtered_data_pass)\n",
    "print(\"Proportion of movies with exactly 2 female characters among Bechdel test passed:\", proportion_pass_bechdel_2_female)\n",
    "print(\"Proportion of movies with more than 2 female characters among Bechdel test passed:\", proportion_pass_bechdel_female )"
   ]
  },
  {
   "cell_type": "code",
   "execution_count": 25,
   "id": "decdd92f",
   "metadata": {
    "scrolled": true
   },
   "outputs": [
    {
     "data": {
      "image/png": "[encoded data removed]",
      "text/plain": [
       "<Figure size 640x480 with 1 Axes>"
      ]
     },
     "metadata": {},
     "output_type": "display_data"
    }
   ],
   "source": [
    "#PROPORTION OF ACTRESS AND BECHDEL TEST FOR ONLY 2 \n",
    "# Filter the DataFrame where 'female_actresses' is equal to 2\n",
    "filtered_data = df_characters_merged_bymovie[df_characters_merged_bymovie['female_actresses'] == 2]\n",
    "\n",
    "# Create a box plot or violin plot\n",
    "sns.boxplot(x='Bechdel pass', y='female_actor_proportion', data=filtered_data)\n",
    "\n",
    "plt.xlabel('Bechdel pass')\n",
    "plt.ylabel('Female Actor Proportion')\n",
    "plt.title('Distribution of Female Actor Proportion in movies (female_actresses=2)')\n",
    "plt.show()\n"
   ]
  },
  {
   "cell_type": "markdown",
   "id": "96dcde1a",
   "metadata": {},
   "source": [
    "We can also look at whether movies pass the test more easily based on the number of actresses"
   ]
  },
  {
   "cell_type": "code",
   "execution_count": 26,
   "id": "bc075eb1",
   "metadata": {},
   "outputs": [
    {
     "name": "stdout",
     "output_type": "stream",
     "text": [
      "female_actresses\n",
      "0     0.159184\n",
      "1     0.279895\n",
      "2     0.422127\n",
      "3     0.502183\n",
      "4     0.609536\n",
      "5     0.643678\n",
      "6     0.667401\n",
      "7     0.763514\n",
      "8     0.839286\n",
      "9     0.805970\n",
      "10    0.897196\n",
      "11    0.880000\n",
      "12    0.837838\n",
      "13    0.863636\n",
      "14    0.857143\n",
      "15    0.933333\n",
      "16    0.875000\n",
      "17    1.000000\n",
      "18    1.000000\n",
      "19    1.000000\n",
      "20    1.000000\n",
      "21    1.000000\n",
      "22    1.000000\n",
      "23    1.000000\n",
      "25    0.000000\n",
      "26    1.000000\n",
      "28    0.000000\n",
      "29    1.000000\n",
      "Name: Bechdel pass, dtype: float64\n"
     ]
    }
   ],
   "source": [
    "# Group by 'female_actresses' and calculate the proportion of movies passing the Bechdel test for each group\n",
    "proportion_by_female_actors_pass = df_characters_merged_bymovie.groupby('female_actresses')['Bechdel pass'].mean()\n",
    "\n",
    "# Print the result\n",
    "print(proportion_by_female_actors_pass)"
   ]
  },
  {
   "cell_type": "markdown",
   "id": "1d290e1b",
   "metadata": {},
   "source": [
    "For example, we can observe that one or more movies with 28 female actresses do not pass the test. In Milestone 3, we can analyze these movies more in-depth and question why they do not pass."
   ]
  },
  {
   "cell_type": "code",
   "execution_count": 27,
   "id": "860d225c",
   "metadata": {
    "scrolled": true
   },
   "outputs": [
    {
     "data": {
      "text/plain": [
       "4019    Tropic Thunder\n",
       "Name: title, dtype: object"
      ]
     },
     "execution_count": 27,
     "metadata": {},
     "output_type": "execute_result"
    }
   ],
   "source": [
    "movies_with_28_female_actresses_fail_bechdel = df_characters_merged_bymovie[(df_characters_merged_bymovie['female_actresses'] == 28) & (df_characters_merged_bymovie['Bechdel pass'] == 0)]\n",
    "\n",
    "# Print the result or further analyze the selected data\n",
    "movies_with_28_female_actresses_fail_bechdel['title']"
   ]
  },
  {
   "cell_type": "markdown",
   "id": "11750e4c",
   "metadata": {},
   "source": [
    "\n",
    "Here are some really simple analyses that we can perform. In the last section, we can explore whether there are significant relationships (using regression, for example) between the number of actresses and the likelihood of passing the Bechdel test."
   ]
  },
  {
   "cell_type": "markdown",
   "id": "5bd47c5d",
   "metadata": {},
   "source": [
    "# Step 3.2 : Directors gender"
   ]
  },
  {
   "cell_type": "markdown",
   "id": "015c4859",
   "metadata": {},
   "source": [
    "In this part, we used the dataset 'all_directors_gender.csv' find online that give us the director name and gender for movies"
   ]
  },
  {
   "cell_type": "code",
   "execution_count": 28,
   "id": "5db73a02",
   "metadata": {},
   "outputs": [
    {
     "data": {
      "text/plain": [
       "(5056, 10)"
      ]
     },
     "execution_count": 28,
     "metadata": {},
     "output_type": "execute_result"
    }
   ],
   "source": [
    "\n",
    "# load the dataframe df_directors that contains for a movie the name of the director and his/her gender\n",
    "df_directors = pd.read_csv(data_folder + 'all_directors_gender.csv', header=0)\n",
    "df_directors.shape"
   ]
  },
  {
   "cell_type": "code",
   "execution_count": 29,
   "id": "8b2a2ed2",
   "metadata": {},
   "outputs": [
    {
     "data": {
      "text/html": [
       "<div>\n",
       "<style scoped>\n",
       "    .dataframe tbody tr th:only-of-type {\n",
       "        vertical-align: middle;\n",
       "    }\n",
       "\n",
       "    .dataframe tbody tr th {\n",
       "        vertical-align: top;\n",
       "    }\n",
       "\n",
       "    .dataframe thead th {\n",
       "        text-align: right;\n",
       "    }\n",
       "</style>\n",
       "<table border=\"1\" class=\"dataframe\">\n",
       "  <thead>\n",
       "    <tr style=\"text-align: right;\">\n",
       "      <th></th>\n",
       "      <th>year</th>\n",
       "      <th>name</th>\n",
       "      <th>country</th>\n",
       "      <th>budget</th>\n",
       "      <th>gross</th>\n",
       "      <th>runtime</th>\n",
       "      <th>director</th>\n",
       "      <th>language</th>\n",
       "      <th>released</th>\n",
       "      <th>gender</th>\n",
       "    </tr>\n",
       "  </thead>\n",
       "  <tbody>\n",
       "    <tr>\n",
       "      <th>0</th>\n",
       "      <td>2000</td>\n",
       "      <td>Mission: Impossible 2</td>\n",
       "      <td>['United States']</td>\n",
       "      <td>125000000</td>\n",
       "      <td>546400000</td>\n",
       "      <td>123</td>\n",
       "      <td>John Woo</td>\n",
       "      <td>['English']</td>\n",
       "      <td>2000/05/24</td>\n",
       "      <td>male</td>\n",
       "    </tr>\n",
       "    <tr>\n",
       "      <th>1</th>\n",
       "      <td>2000</td>\n",
       "      <td>Gladiator</td>\n",
       "      <td>['United Kingdom', 'United States']</td>\n",
       "      <td>103000000</td>\n",
       "      <td>460500000</td>\n",
       "      <td>155</td>\n",
       "      <td>Ridley Scott</td>\n",
       "      <td>['English']</td>\n",
       "      <td>2000/05/01</td>\n",
       "      <td>male</td>\n",
       "    </tr>\n",
       "    <tr>\n",
       "      <th>2</th>\n",
       "      <td>2000</td>\n",
       "      <td>Cast Away</td>\n",
       "      <td>['United States']</td>\n",
       "      <td>90000000</td>\n",
       "      <td>429600000</td>\n",
       "      <td>143</td>\n",
       "      <td>Robert Zemeckis</td>\n",
       "      <td>['English']</td>\n",
       "      <td>2000/12/22</td>\n",
       "      <td>male</td>\n",
       "    </tr>\n",
       "  </tbody>\n",
       "</table>\n",
       "</div>"
      ],
      "text/plain": [
       "   year                   name                              country  \\\n",
       "0  2000  Mission: Impossible 2                    ['United States']   \n",
       "1  2000              Gladiator  ['United Kingdom', 'United States']   \n",
       "2  2000              Cast Away                    ['United States']   \n",
       "\n",
       "      budget      gross runtime         director     language    released  \\\n",
       "0  125000000  546400000     123         John Woo  ['English']  2000/05/24   \n",
       "1  103000000  460500000     155     Ridley Scott  ['English']  2000/05/01   \n",
       "2   90000000  429600000     143  Robert Zemeckis  ['English']  2000/12/22   \n",
       "\n",
       "  gender  \n",
       "0   male  \n",
       "1   male  \n",
       "2   male  "
      ]
     },
     "execution_count": 29,
     "metadata": {},
     "output_type": "execute_result"
    }
   ],
   "source": [
    "df_directors.head(3)"
   ]
  },
  {
   "cell_type": "code",
   "execution_count": 30,
   "id": "8c95dcf3",
   "metadata": {},
   "outputs": [
    {
     "name": "stdout",
     "output_type": "stream",
     "text": [
      "years :  [  2000   2001   2002   2003   2004   2005   2006   2007   2008   2009\n",
      "   2010   2011   2012   2013 202013   2014   2015   2016   2017   2018]\n",
      "years range : 2000 - 202013\n",
      "years : [2000 2001 2002 2003 2004 2005 2006 2007 2008 2009 2010 2011 2012 2013\n",
      " 2014 2015 2016 2017 2018]\n",
      "years range: 2000 - 2018\n",
      "values for gender :  ['male' 'female' 'unknown']\n"
     ]
    }
   ],
   "source": [
    "# Check for weird values in years values\n",
    "years_range = df_directors['year'].unique()\n",
    "print(\"years : \", years_range)\n",
    "print(\"years range :\", min(years_range), \"-\", max(years_range))\n",
    "# Filter out rows where 'year' is equal to 202013\n",
    "df_directors = df_directors[df_directors['year'] != 202013]\n",
    "df_directors.shape\n",
    "years_range = df_directors['year'].unique()\n",
    "print(\"years :\", years_range)\n",
    "print(\"years range:\", min(years_range), \"-\", max(years_range))\n",
    "\n",
    "# Check for weird values in gender category\n",
    "gender = df_directors['gender'].unique()\n",
    "print(\"values for gender : \", gender)"
   ]
  },
  {
   "cell_type": "code",
   "execution_count": 31,
   "id": "36da50ed",
   "metadata": {},
   "outputs": [
    {
     "data": {
      "text/html": [
       "<div>\n",
       "<style scoped>\n",
       "    .dataframe tbody tr th:only-of-type {\n",
       "        vertical-align: middle;\n",
       "    }\n",
       "\n",
       "    .dataframe tbody tr th {\n",
       "        vertical-align: top;\n",
       "    }\n",
       "\n",
       "    .dataframe thead th {\n",
       "        text-align: right;\n",
       "    }\n",
       "</style>\n",
       "<table border=\"1\" class=\"dataframe\">\n",
       "  <thead>\n",
       "    <tr style=\"text-align: right;\">\n",
       "      <th></th>\n",
       "      <th>Unnamed: 0.1</th>\n",
       "      <th>Unnamed: 0</th>\n",
       "      <th>imdbid</th>\n",
       "      <th>year_x</th>\n",
       "      <th>rating</th>\n",
       "      <th>id</th>\n",
       "      <th>title</th>\n",
       "      <th>WikiID</th>\n",
       "      <th>Wikipedia movie ID</th>\n",
       "      <th>Freebase movie ID</th>\n",
       "      <th>Movie name</th>\n",
       "      <th>Movie release date</th>\n",
       "      <th>Movie box office revenue</th>\n",
       "      <th>Movie runtime</th>\n",
       "      <th>Movie languages (Freebase ID:name tuples)</th>\n",
       "      <th>Movie countries (Freebase ID:name tuples)</th>\n",
       "      <th>Movie genres (Freebase ID:name tuples)</th>\n",
       "      <th>year_y</th>\n",
       "    </tr>\n",
       "  </thead>\n",
       "  <tbody>\n",
       "    <tr>\n",
       "      <th>0</th>\n",
       "      <td>0</td>\n",
       "      <td>2</td>\n",
       "      <td>2221420.0</td>\n",
       "      <td>1878</td>\n",
       "      <td>0</td>\n",
       "      <td>9603</td>\n",
       "      <td>Sallie Gardner at a Gallop</td>\n",
       "      <td>26044155.0</td>\n",
       "      <td>26044155</td>\n",
       "      <td>/m/0b6f62m</td>\n",
       "      <td>Sallie Gardner at a Gallop</td>\n",
       "      <td>NaN</td>\n",
       "      <td>NaN</td>\n",
       "      <td>0.05</td>\n",
       "      <td>{\"/m/06ppq\": \"Silent film\"}</td>\n",
       "      <td>{\"/m/09c7w0\": \"United States of America\"}</td>\n",
       "      <td>{\"/m/02hmvc\": \"Short Film\", \"/m/06ppq\": \"Silen...</td>\n",
       "      <td>NaN</td>\n",
       "    </tr>\n",
       "    <tr>\n",
       "      <th>1</th>\n",
       "      <td>1</td>\n",
       "      <td>13</td>\n",
       "      <td>392728.0</td>\n",
       "      <td>1888</td>\n",
       "      <td>0</td>\n",
       "      <td>8040</td>\n",
       "      <td>Roundhay Garden Scene</td>\n",
       "      <td>1082508.0</td>\n",
       "      <td>1082508</td>\n",
       "      <td>/m/044ggd</td>\n",
       "      <td>Roundhay Garden Scene</td>\n",
       "      <td>NaN</td>\n",
       "      <td>NaN</td>\n",
       "      <td>0.03</td>\n",
       "      <td>{\"/m/06ppq\": \"Silent film\"}</td>\n",
       "      <td>{\"/m/07ssc\": \"United Kingdom\"}</td>\n",
       "      <td>{\"/m/02hmvc\": \"Short Film\", \"/m/06ppq\": \"Silen...</td>\n",
       "      <td>NaN</td>\n",
       "    </tr>\n",
       "    <tr>\n",
       "      <th>2</th>\n",
       "      <td>2</td>\n",
       "      <td>18</td>\n",
       "      <td>466876.0</td>\n",
       "      <td>1889</td>\n",
       "      <td>0</td>\n",
       "      <td>9619</td>\n",
       "      <td>Leisurely Pedestrians, Open Topped Buses and H...</td>\n",
       "      <td>12170539.0</td>\n",
       "      <td>12170539</td>\n",
       "      <td>/m/02vs8rb</td>\n",
       "      <td>Leisurely Pedestrians, Open Topped Buses and H...</td>\n",
       "      <td>NaN</td>\n",
       "      <td>NaN</td>\n",
       "      <td>NaN</td>\n",
       "      <td>{\"/m/06ppq\": \"Silent film\", \"/m/02h40lc\": \"Eng...</td>\n",
       "      <td>{\"/m/07ssc\": \"United Kingdom\"}</td>\n",
       "      <td>{\"/m/02hmvc\": \"Short Film\", \"/m/06ppq\": \"Silen...</td>\n",
       "      <td>NaN</td>\n",
       "    </tr>\n",
       "  </tbody>\n",
       "</table>\n",
       "</div>"
      ],
      "text/plain": [
       "   Unnamed: 0.1  Unnamed: 0     imdbid  year_x  rating    id  \\\n",
       "0             0           2  2221420.0    1878       0  9603   \n",
       "1             1          13   392728.0    1888       0  8040   \n",
       "2             2          18   466876.0    1889       0  9619   \n",
       "\n",
       "                                               title      WikiID  \\\n",
       "0                         Sallie Gardner at a Gallop  26044155.0   \n",
       "1                              Roundhay Garden Scene   1082508.0   \n",
       "2  Leisurely Pedestrians, Open Topped Buses and H...  12170539.0   \n",
       "\n",
       "   Wikipedia movie ID Freebase movie ID  \\\n",
       "0            26044155        /m/0b6f62m   \n",
       "1             1082508         /m/044ggd   \n",
       "2            12170539        /m/02vs8rb   \n",
       "\n",
       "                                          Movie name Movie release date  \\\n",
       "0                         Sallie Gardner at a Gallop                NaN   \n",
       "1                              Roundhay Garden Scene                NaN   \n",
       "2  Leisurely Pedestrians, Open Topped Buses and H...                NaN   \n",
       "\n",
       "   Movie box office revenue  Movie runtime  \\\n",
       "0                       NaN           0.05   \n",
       "1                       NaN           0.03   \n",
       "2                       NaN            NaN   \n",
       "\n",
       "           Movie languages (Freebase ID:name tuples)  \\\n",
       "0                        {\"/m/06ppq\": \"Silent film\"}   \n",
       "1                        {\"/m/06ppq\": \"Silent film\"}   \n",
       "2  {\"/m/06ppq\": \"Silent film\", \"/m/02h40lc\": \"Eng...   \n",
       "\n",
       "   Movie countries (Freebase ID:name tuples)  \\\n",
       "0  {\"/m/09c7w0\": \"United States of America\"}   \n",
       "1             {\"/m/07ssc\": \"United Kingdom\"}   \n",
       "2             {\"/m/07ssc\": \"United Kingdom\"}   \n",
       "\n",
       "              Movie genres (Freebase ID:name tuples)  year_y  \n",
       "0  {\"/m/02hmvc\": \"Short Film\", \"/m/06ppq\": \"Silen...     NaN  \n",
       "1  {\"/m/02hmvc\": \"Short Film\", \"/m/06ppq\": \"Silen...     NaN  \n",
       "2  {\"/m/02hmvc\": \"Short Film\", \"/m/06ppq\": \"Silen...     NaN  "
      ]
     },
     "execution_count": 31,
     "metadata": {},
     "output_type": "execute_result"
    }
   ],
   "source": [
    "#we load the main dataframe\n",
    "df = pd.read_csv(data_folder + 'merged_df.csv', header=0)\n",
    "df.head(3)"
   ]
  },
  {
   "cell_type": "code",
   "execution_count": 32,
   "id": "4fc462b6",
   "metadata": {},
   "outputs": [],
   "source": [
    "# Merge based on matching values in 'year' and 'title'\n",
    "df_merged = pd.merge(df, df_directors[['year', 'name', 'director', 'gender']], \n",
    "                     left_on=['year_x', 'title'], \n",
    "                     right_on=['year', 'name'], \n",
    "                     how='inner')\n",
    "\n",
    "# Drop the redundant columns\n",
    "df_merged = df_merged.drop(['year_y', 'name'], axis=1)"
   ]
  },
  {
   "cell_type": "code",
   "execution_count": 33,
   "id": "defc3d17",
   "metadata": {},
   "outputs": [
    {
     "data": {
      "text/html": [
       "<div>\n",
       "<style scoped>\n",
       "    .dataframe tbody tr th:only-of-type {\n",
       "        vertical-align: middle;\n",
       "    }\n",
       "\n",
       "    .dataframe tbody tr th {\n",
       "        vertical-align: top;\n",
       "    }\n",
       "\n",
       "    .dataframe thead th {\n",
       "        text-align: right;\n",
       "    }\n",
       "</style>\n",
       "<table border=\"1\" class=\"dataframe\">\n",
       "  <thead>\n",
       "    <tr style=\"text-align: right;\">\n",
       "      <th></th>\n",
       "      <th>Unnamed: 0.1</th>\n",
       "      <th>Unnamed: 0</th>\n",
       "      <th>imdbid</th>\n",
       "      <th>year_x</th>\n",
       "      <th>rating</th>\n",
       "      <th>id</th>\n",
       "      <th>title</th>\n",
       "      <th>WikiID</th>\n",
       "      <th>Wikipedia movie ID</th>\n",
       "      <th>Freebase movie ID</th>\n",
       "      <th>Movie name</th>\n",
       "      <th>Movie release date</th>\n",
       "      <th>Movie box office revenue</th>\n",
       "      <th>Movie runtime</th>\n",
       "      <th>Movie languages (Freebase ID:name tuples)</th>\n",
       "      <th>Movie countries (Freebase ID:name tuples)</th>\n",
       "      <th>Movie genres (Freebase ID:name tuples)</th>\n",
       "      <th>year</th>\n",
       "      <th>director</th>\n",
       "      <th>gender</th>\n",
       "    </tr>\n",
       "  </thead>\n",
       "  <tbody>\n",
       "    <tr>\n",
       "      <th>0</th>\n",
       "      <td>1156</td>\n",
       "      <td>4369</td>\n",
       "      <td>324133.0</td>\n",
       "      <td>2003</td>\n",
       "      <td>3</td>\n",
       "      <td>983</td>\n",
       "      <td>Swimming Pool</td>\n",
       "      <td>950429.0</td>\n",
       "      <td>950429</td>\n",
       "      <td>/m/03sq24</td>\n",
       "      <td>Swimming Pool</td>\n",
       "      <td>2003-05-18</td>\n",
       "      <td>22441323.0</td>\n",
       "      <td>103.0</td>\n",
       "      <td>{\"/m/064_8sq\": \"French Language\", \"/m/02h40lc\"...</td>\n",
       "      <td>{\"/m/0f8l9c\": \"France\", \"/m/07ssc\": \"United Ki...</td>\n",
       "      <td>{\"/m/01jfsb\": \"Thriller\", \"/m/0lsxr\": \"Crime F...</td>\n",
       "      <td>2003</td>\n",
       "      <td>Fran\\xc3\\xa7ois Ozon</td>\n",
       "      <td>unknown</td>\n",
       "    </tr>\n",
       "    <tr>\n",
       "      <th>1</th>\n",
       "      <td>3128</td>\n",
       "      <td>3801</td>\n",
       "      <td>199753.0</td>\n",
       "      <td>2000</td>\n",
       "      <td>0</td>\n",
       "      <td>15</td>\n",
       "      <td>Red Planet</td>\n",
       "      <td>1494502.0</td>\n",
       "      <td>1494502</td>\n",
       "      <td>/m/055stg</td>\n",
       "      <td>Red Planet</td>\n",
       "      <td>2000-11-10</td>\n",
       "      <td>33463969.0</td>\n",
       "      <td>108.0</td>\n",
       "      <td>{\"/m/02h40lc\": \"English Language\"}</td>\n",
       "      <td>{\"/m/09c7w0\": \"United States of America\", \"/m/...</td>\n",
       "      <td>{\"/m/01jfsb\": \"Thriller\", \"/m/01drsx\": \"Disast...</td>\n",
       "      <td>2000</td>\n",
       "      <td>Antony Hoffman</td>\n",
       "      <td>male</td>\n",
       "    </tr>\n",
       "    <tr>\n",
       "      <th>2</th>\n",
       "      <td>3130</td>\n",
       "      <td>3803</td>\n",
       "      <td>144084.0</td>\n",
       "      <td>2000</td>\n",
       "      <td>3</td>\n",
       "      <td>64</td>\n",
       "      <td>American Psycho</td>\n",
       "      <td>4846576.0</td>\n",
       "      <td>4846576</td>\n",
       "      <td>/m/0cqr0q</td>\n",
       "      <td>American Psycho</td>\n",
       "      <td>2000-01-21</td>\n",
       "      <td>34266564.0</td>\n",
       "      <td>102.0</td>\n",
       "      <td>{\"/m/06nm1\": \"Spanish Language\", \"/m/02h40lc\":...</td>\n",
       "      <td>{\"/m/09c7w0\": \"United States of America\"}</td>\n",
       "      <td>{\"/m/01jfsb\": \"Thriller\", \"/m/02wtdps\": \"Crime...</td>\n",
       "      <td>2000</td>\n",
       "      <td>Mary Harron</td>\n",
       "      <td>female</td>\n",
       "    </tr>\n",
       "  </tbody>\n",
       "</table>\n",
       "</div>"
      ],
      "text/plain": [
       "   Unnamed: 0.1  Unnamed: 0    imdbid  year_x  rating   id            title  \\\n",
       "0          1156        4369  324133.0    2003       3  983    Swimming Pool   \n",
       "1          3128        3801  199753.0    2000       0   15       Red Planet   \n",
       "2          3130        3803  144084.0    2000       3   64  American Psycho   \n",
       "\n",
       "      WikiID  Wikipedia movie ID Freebase movie ID       Movie name  \\\n",
       "0   950429.0              950429         /m/03sq24    Swimming Pool   \n",
       "1  1494502.0             1494502         /m/055stg       Red Planet   \n",
       "2  4846576.0             4846576         /m/0cqr0q  American Psycho   \n",
       "\n",
       "  Movie release date  Movie box office revenue  Movie runtime  \\\n",
       "0         2003-05-18                22441323.0          103.0   \n",
       "1         2000-11-10                33463969.0          108.0   \n",
       "2         2000-01-21                34266564.0          102.0   \n",
       "\n",
       "           Movie languages (Freebase ID:name tuples)  \\\n",
       "0  {\"/m/064_8sq\": \"French Language\", \"/m/02h40lc\"...   \n",
       "1                 {\"/m/02h40lc\": \"English Language\"}   \n",
       "2  {\"/m/06nm1\": \"Spanish Language\", \"/m/02h40lc\":...   \n",
       "\n",
       "           Movie countries (Freebase ID:name tuples)  \\\n",
       "0  {\"/m/0f8l9c\": \"France\", \"/m/07ssc\": \"United Ki...   \n",
       "1  {\"/m/09c7w0\": \"United States of America\", \"/m/...   \n",
       "2          {\"/m/09c7w0\": \"United States of America\"}   \n",
       "\n",
       "              Movie genres (Freebase ID:name tuples)  year  \\\n",
       "0  {\"/m/01jfsb\": \"Thriller\", \"/m/0lsxr\": \"Crime F...  2003   \n",
       "1  {\"/m/01jfsb\": \"Thriller\", \"/m/01drsx\": \"Disast...  2000   \n",
       "2  {\"/m/01jfsb\": \"Thriller\", \"/m/02wtdps\": \"Crime...  2000   \n",
       "\n",
       "               director   gender  \n",
       "0  Fran\\xc3\\xa7ois Ozon  unknown  \n",
       "1        Antony Hoffman     male  \n",
       "2           Mary Harron   female  "
      ]
     },
     "execution_count": 33,
     "metadata": {},
     "output_type": "execute_result"
    }
   ],
   "source": [
    "df_merged.head(3)"
   ]
  },
  {
   "cell_type": "code",
   "execution_count": 34,
   "id": "91851cf0",
   "metadata": {},
   "outputs": [
    {
     "data": {
      "text/html": [
       "<div>\n",
       "<style scoped>\n",
       "    .dataframe tbody tr th:only-of-type {\n",
       "        vertical-align: middle;\n",
       "    }\n",
       "\n",
       "    .dataframe tbody tr th {\n",
       "        vertical-align: top;\n",
       "    }\n",
       "\n",
       "    .dataframe thead th {\n",
       "        text-align: right;\n",
       "    }\n",
       "</style>\n",
       "<table border=\"1\" class=\"dataframe\">\n",
       "  <thead>\n",
       "    <tr style=\"text-align: right;\">\n",
       "      <th></th>\n",
       "      <th>Unnamed: 0.1</th>\n",
       "      <th>Unnamed: 0</th>\n",
       "      <th>imdbid</th>\n",
       "      <th>year_x</th>\n",
       "      <th>rating</th>\n",
       "      <th>id</th>\n",
       "      <th>title</th>\n",
       "      <th>WikiID</th>\n",
       "      <th>Wikipedia movie ID</th>\n",
       "      <th>Freebase movie ID</th>\n",
       "      <th>Movie name</th>\n",
       "      <th>Movie release date</th>\n",
       "      <th>Movie box office revenue</th>\n",
       "      <th>Movie runtime</th>\n",
       "      <th>Movie languages (Freebase ID:name tuples)</th>\n",
       "      <th>Movie countries (Freebase ID:name tuples)</th>\n",
       "      <th>Movie genres (Freebase ID:name tuples)</th>\n",
       "      <th>year</th>\n",
       "      <th>director</th>\n",
       "      <th>gender</th>\n",
       "    </tr>\n",
       "  </thead>\n",
       "  <tbody>\n",
       "    <tr>\n",
       "      <th>1</th>\n",
       "      <td>3128</td>\n",
       "      <td>3801</td>\n",
       "      <td>199753.0</td>\n",
       "      <td>2000</td>\n",
       "      <td>0</td>\n",
       "      <td>15</td>\n",
       "      <td>Red Planet</td>\n",
       "      <td>1494502.0</td>\n",
       "      <td>1494502</td>\n",
       "      <td>/m/055stg</td>\n",
       "      <td>Red Planet</td>\n",
       "      <td>2000-11-10</td>\n",
       "      <td>33463969.0</td>\n",
       "      <td>108.0</td>\n",
       "      <td>{\"/m/02h40lc\": \"English Language\"}</td>\n",
       "      <td>{\"/m/09c7w0\": \"United States of America\", \"/m/...</td>\n",
       "      <td>{\"/m/01jfsb\": \"Thriller\", \"/m/01drsx\": \"Disast...</td>\n",
       "      <td>2000</td>\n",
       "      <td>Antony Hoffman</td>\n",
       "      <td>male</td>\n",
       "    </tr>\n",
       "    <tr>\n",
       "      <th>2</th>\n",
       "      <td>3130</td>\n",
       "      <td>3803</td>\n",
       "      <td>144084.0</td>\n",
       "      <td>2000</td>\n",
       "      <td>3</td>\n",
       "      <td>64</td>\n",
       "      <td>American Psycho</td>\n",
       "      <td>4846576.0</td>\n",
       "      <td>4846576</td>\n",
       "      <td>/m/0cqr0q</td>\n",
       "      <td>American Psycho</td>\n",
       "      <td>2000-01-21</td>\n",
       "      <td>34266564.0</td>\n",
       "      <td>102.0</td>\n",
       "      <td>{\"/m/06nm1\": \"Spanish Language\", \"/m/02h40lc\":...</td>\n",
       "      <td>{\"/m/09c7w0\": \"United States of America\"}</td>\n",
       "      <td>{\"/m/01jfsb\": \"Thriller\", \"/m/02wtdps\": \"Crime...</td>\n",
       "      <td>2000</td>\n",
       "      <td>Mary Harron</td>\n",
       "      <td>female</td>\n",
       "    </tr>\n",
       "    <tr>\n",
       "      <th>3</th>\n",
       "      <td>3131</td>\n",
       "      <td>3804</td>\n",
       "      <td>164052.0</td>\n",
       "      <td>2000</td>\n",
       "      <td>3</td>\n",
       "      <td>78</td>\n",
       "      <td>Hollow Man</td>\n",
       "      <td>1332901.0</td>\n",
       "      <td>1332901</td>\n",
       "      <td>/m/04th45</td>\n",
       "      <td>Hollow Man</td>\n",
       "      <td>2000-08-02</td>\n",
       "      <td>190213455.0</td>\n",
       "      <td>119.0</td>\n",
       "      <td>{\"/m/02h40lc\": \"English Language\"}</td>\n",
       "      <td>{\"/m/09c7w0\": \"United States of America\", \"/m/...</td>\n",
       "      <td>{\"/m/01jfsb\": \"Thriller\", \"/m/06n90\": \"Science...</td>\n",
       "      <td>2000</td>\n",
       "      <td>Paul Verhoeven</td>\n",
       "      <td>male</td>\n",
       "    </tr>\n",
       "  </tbody>\n",
       "</table>\n",
       "</div>"
      ],
      "text/plain": [
       "   Unnamed: 0.1  Unnamed: 0    imdbid  year_x  rating  id            title  \\\n",
       "1          3128        3801  199753.0    2000       0  15       Red Planet   \n",
       "2          3130        3803  144084.0    2000       3  64  American Psycho   \n",
       "3          3131        3804  164052.0    2000       3  78       Hollow Man   \n",
       "\n",
       "      WikiID  Wikipedia movie ID Freebase movie ID       Movie name  \\\n",
       "1  1494502.0             1494502         /m/055stg       Red Planet   \n",
       "2  4846576.0             4846576         /m/0cqr0q  American Psycho   \n",
       "3  1332901.0             1332901         /m/04th45       Hollow Man   \n",
       "\n",
       "  Movie release date  Movie box office revenue  Movie runtime  \\\n",
       "1         2000-11-10                33463969.0          108.0   \n",
       "2         2000-01-21                34266564.0          102.0   \n",
       "3         2000-08-02               190213455.0          119.0   \n",
       "\n",
       "           Movie languages (Freebase ID:name tuples)  \\\n",
       "1                 {\"/m/02h40lc\": \"English Language\"}   \n",
       "2  {\"/m/06nm1\": \"Spanish Language\", \"/m/02h40lc\":...   \n",
       "3                 {\"/m/02h40lc\": \"English Language\"}   \n",
       "\n",
       "           Movie countries (Freebase ID:name tuples)  \\\n",
       "1  {\"/m/09c7w0\": \"United States of America\", \"/m/...   \n",
       "2          {\"/m/09c7w0\": \"United States of America\"}   \n",
       "3  {\"/m/09c7w0\": \"United States of America\", \"/m/...   \n",
       "\n",
       "              Movie genres (Freebase ID:name tuples)  year        director  \\\n",
       "1  {\"/m/01jfsb\": \"Thriller\", \"/m/01drsx\": \"Disast...  2000  Antony Hoffman   \n",
       "2  {\"/m/01jfsb\": \"Thriller\", \"/m/02wtdps\": \"Crime...  2000     Mary Harron   \n",
       "3  {\"/m/01jfsb\": \"Thriller\", \"/m/06n90\": \"Science...  2000  Paul Verhoeven   \n",
       "\n",
       "   gender  \n",
       "1    male  \n",
       "2  female  \n",
       "3    male  "
      ]
     },
     "execution_count": 34,
     "metadata": {},
     "output_type": "execute_result"
    }
   ],
   "source": [
    "# Filter rows with 'gender' equal to 'male' or 'female'\n",
    "df_filtered = df_merged[df_merged['gender'].isin(['male', 'female'])]\n",
    "df_filtered.head(3)"
   ]
  },
  {
   "cell_type": "code",
   "execution_count": 35,
   "id": "e4fa3a8e",
   "metadata": {},
   "outputs": [
    {
     "data": {
      "image/png": "[encoded data removed]",
      "text/plain": [
       "<Figure size 640x480 with 1 Axes>"
      ]
     },
     "metadata": {},
     "output_type": "display_data"
    }
   ],
   "source": [
    "# Count the number of movies directed by each gender\n",
    "gender_counts = df_filtered['gender'].value_counts()\n",
    "\n",
    "# Plot a pie chart\n",
    "plt.pie(gender_counts, labels=gender_counts.index, autopct='%1.1f%%', startangle=90, colors=['skyblue', 'lightcoral'])\n",
    "plt.title('Proportion of Movies Directed by Gender')\n",
    "\n",
    "# Show the plot\n",
    "plt.show()"
   ]
  },
  {
   "cell_type": "code",
   "execution_count": 38,
   "id": "cb968b8a",
   "metadata": {},
   "outputs": [
    {
     "data": {
      "text/plain": [
       "gender\n",
       "male      1069\n",
       "female      63\n",
       "Name: count, dtype: int64"
      ]
     },
     "execution_count": 38,
     "metadata": {},
     "output_type": "execute_result"
    }
   ],
   "source": [
    "gender_counts"
   ]
  },
  {
   "cell_type": "markdown",
   "id": "d275882f",
   "metadata": {},
   "source": [
    "Here we see that proportion of female director in our merged dataframe is really low (only 64 female directors). It is important to check if these values are significant. On Wikipedia  we find that 'The percentage of female writers (11.8%) and producers (22%) can be seen as high compared to female directors (7.5%).\" \n",
    "For the next milestone, we will perform more statistical tests to know if our dataset is significant, if not we can try to find more datas, to have a more representative dataset. "
   ]
  },
  {
   "cell_type": "code",
   "execution_count": 40,
   "id": "278afb8f",
   "metadata": {},
   "outputs": [
    {
     "data": {
      "text/html": [
       "<div>\n",
       "<style scoped>\n",
       "    .dataframe tbody tr th:only-of-type {\n",
       "        vertical-align: middle;\n",
       "    }\n",
       "\n",
       "    .dataframe tbody tr th {\n",
       "        vertical-align: top;\n",
       "    }\n",
       "\n",
       "    .dataframe thead th {\n",
       "        text-align: right;\n",
       "    }\n",
       "</style>\n",
       "<table border=\"1\" class=\"dataframe\">\n",
       "  <thead>\n",
       "    <tr style=\"text-align: right;\">\n",
       "      <th></th>\n",
       "      <th>proportion_x</th>\n",
       "      <th>proportion_y</th>\n",
       "    </tr>\n",
       "    <tr>\n",
       "      <th>rating</th>\n",
       "      <th></th>\n",
       "      <th></th>\n",
       "    </tr>\n",
       "  </thead>\n",
       "  <tbody>\n",
       "    <tr>\n",
       "      <th>3</th>\n",
       "      <td>52.946679</td>\n",
       "      <td>77.777778</td>\n",
       "    </tr>\n",
       "    <tr>\n",
       "      <th>1</th>\n",
       "      <td>28.624883</td>\n",
       "      <td>19.047619</td>\n",
       "    </tr>\n",
       "    <tr>\n",
       "      <th>2</th>\n",
       "      <td>10.102900</td>\n",
       "      <td>1.587302</td>\n",
       "    </tr>\n",
       "  </tbody>\n",
       "</table>\n",
       "</div>"
      ],
      "text/plain": [
       "        proportion_x  proportion_y\n",
       "rating                            \n",
       "3          52.946679     77.777778\n",
       "1          28.624883     19.047619\n",
       "2          10.102900      1.587302"
      ]
     },
     "execution_count": 40,
     "metadata": {},
     "output_type": "execute_result"
    }
   ],
   "source": [
    "# Calculate the proportions for each rating category for male directors\n",
    "male_proportions = df_filtered[df_filtered['gender'] == 'male']['rating'].value_counts(normalize=True) * 100\n",
    "female_proportions = df_filtered[df_filtered['gender'] == 'female']['rating'].value_counts(normalize=True) * 100\n",
    "\n",
    "# Calculate the proportions for each rating category\n",
    "directors_gender_prop = pd.merge(male_proportions, female_proportions, on=['rating'], how='outer')\n",
    "directors_gender_prop.head(3)"
   ]
  },
  {
   "cell_type": "code",
   "execution_count": 44,
   "id": "880012ff",
   "metadata": {
    "scrolled": true
   },
   "outputs": [
    {
     "name": "stderr",
     "output_type": "stream",
     "text": [
      "/Users/mathisayma/anaconda3/envs/ADA/lib/python3.11/site-packages/seaborn/axisgrid.py:118: UserWarning: The figure layout has changed to tight\n",
      "  self._figure.tight_layout(*args, **kwargs)\n"
     ]
    },
    {
     "data": {
      "text/plain": [
       "<Figure size 1200x600 with 0 Axes>"
      ]
     },
     "metadata": {},
     "output_type": "display_data"
    },
    {
     "data": {
      "image/png": "[encoded data removed]",
      "text/plain": [
       "<Figure size 600.25x500 with 1 Axes>"
      ]
     },
     "metadata": {},
     "output_type": "display_data"
    }
   ],
   "source": [
    "# Calculate the proportions for each rating category \n",
    "male_proportions = df_filtered[df_filtered['gender'] == 'male']['rating'].value_counts(normalize=True) * 100\n",
    "female_proportions = df_filtered[df_filtered['gender'] == 'female']['rating'].value_counts(normalize=True) * 100\n",
    "\n",
    "directors_gender_prop = pd.merge(male_proportions, female_proportions, on=['rating'], how='outer')\n",
    "directors_gender_prop = directors_gender_prop.reset_index()\n",
    "\n",
    "#Reset index and rename columns\n",
    "directors_gender_prop = directors_gender_prop.rename(columns={ 'proportion_x': 'Male', 'proportion_y': 'Female'})\n",
    "#directors_gender_prop = directors_gender_prop.reset_index(drop=True)\n",
    "directors_gender_prop\n",
    "\n",
    "directors_gender_prop = pd.melt(directors_gender_prop, id_vars='rating', var_name='gender', value_name='proportion')\n",
    "\n",
    "\n",
    "# Set up the plot\n",
    "plt.figure(figsize=(12, 6))\n",
    "\n",
    "# Plot for both male and female directors\n",
    "sns.catplot(x='rating', y='proportion', hue='gender', data=directors_gender_prop, kind='bar', height=5, aspect=1)\n",
    "\n",
    "plt.xlabel('Rating')\n",
    "plt.ylabel('Proportion of Movies (%)')\n",
    "plt.title('Proportion of Movies by Rating for Male and Female Directors')\n",
    "\n",
    "plt.legend()\n",
    "plt.show()"
   ]
  },
  {
   "cell_type": "markdown",
   "id": "de331cd6",
   "metadata": {},
   "source": [
    "The gender of the director seems to be an important factor to pass the Bechdel test. A correlation test will be done in the next Milestone 3"
   ]
  },
  {
   "cell_type": "markdown",
   "id": "130c5b90",
   "metadata": {},
   "source": [
    "# Step 3.3 Age ratio of actresses and actors"
   ]
  },
  {
   "cell_type": "code",
   "execution_count": 45,
   "id": "8f01ab43",
   "metadata": {},
   "outputs": [],
   "source": [
    "headers_movie = ['Wikipedia movie ID', 'Freebase movie ID','Movie name','Movie release date', 'Movie box office revenue', 'Movie runtime', 'Movie languages', 'Movie countries', 'Movie genres']\n",
    "headers_character = [\"Wikipedia movie ID\", \"Freebase movie ID\", \"Movie release date\", \"Character name\", \"Actor date of birth\", \"Actor gender\", \"Actor height (in meters)\", \"Actor ethnicity (Freebase ID)\", \"Actor name\", \"Actor age at movie release\", \"Freebase character/actor map ID\", \"Freebase character ID\", \"Freebase actor ID\"]\n",
    "#dfm = pd.read_csv('movie.metadata.tsv', sep='\\t', header=None, names=headers_movie)\n",
    "dfc = pd.read_csv('MovieSummaries/character.metadata.tsv', sep='\\t', header=None, names=headers_character)\n",
    "dfm = pd.read_csv(data_folder + 'merged_df.csv', header=0)"
   ]
  },
  {
   "cell_type": "code",
   "execution_count": 46,
   "id": "a804f648",
   "metadata": {},
   "outputs": [],
   "source": [
    "actors = dfc[dfc['Actor gender'] == 'M']\n",
    "actresses = dfc[dfc['Actor gender'] == 'F']\n",
    "\n",
    "# Calculate average age for actors and actresses in each movie\n",
    "avg_age_actors = actors.groupby('Wikipedia movie ID')['Actor age at movie release'].mean()\n",
    "avg_age_actresses = actresses.groupby('Wikipedia movie ID')['Actor age at movie release'].mean()\n",
    "\n",
    "# Compute the ratio for each movie\n",
    "ratio = avg_age_actresses / avg_age_actors\n",
    "ratio = ratio.rename('ratio')\n",
    "dfm = dfm.merge(ratio, how='left', left_on='Wikipedia movie ID', right_index=True)"
   ]
  },
  {
   "cell_type": "code",
   "execution_count": 47,
   "id": "70a61866",
   "metadata": {},
   "outputs": [],
   "source": [
    "# Create a list of film Wikiepedia IDs with no missing values for the age of actors\n",
    "movies_with_all_ages = dfc.groupby('Wikipedia movie ID')['Actor age at movie release'].apply(lambda x: x.notna().all())\n",
    "\n",
    "# Filter movies with all ages\n",
    "movies_with_all_ages = movies_with_all_ages[movies_with_all_ages].index.tolist()\n",
    "\n",
    "# Select movies in the list created above and with no missing values for ratings and for ratio\n",
    "dfm_ = dfm[dfm['Wikipedia movie ID'].isin(movies_with_all_ages) & dfm['rating'].notna() & dfm['ratio'].notna()]"
   ]
  },
  {
   "cell_type": "code",
   "execution_count": 48,
   "id": "7c93496c",
   "metadata": {},
   "outputs": [],
   "source": [
    "# Ratio series for each ratings\n",
    "r0 = dfm_[dfm_.rating == 0]\n",
    "r1 = dfm_[dfm_.rating == 1]\n",
    "r2 = dfm_[dfm_.rating == 2]\n",
    "r3 = dfm_[dfm_.rating == 3]\n",
    "\n",
    "# Ratio series for movies not passing the Bechdel test (ratings = 0,1,2)\n",
    "r012 = dfm_[dfm_.rating<3]"
   ]
  },
  {
   "cell_type": "code",
   "execution_count": 49,
   "id": "783167c2",
   "metadata": {},
   "outputs": [
    {
     "data": {
      "image/png": "[encoded data removed]",
      "text/plain": [
       "<Figure size 2200x800 with 4 Axes>"
      ]
     },
     "metadata": {},
     "output_type": "display_data"
    }
   ],
   "source": [
    "ratio = [r0, r1, r2, r3]\n",
    "\n",
    "# Create subplots\n",
    "fig, axes = plt.subplots(4, 1, figsize=(22, 8), sharex=True, sharey=True)\n",
    "\n",
    "# Iterate over ratio data frame\n",
    "for i, df in enumerate(ratio):\n",
    "    sns.boxplot(x=df['ratio'], y=df['rating'], ax=axes[i], orient='h')\n",
    "    axes[i].set_ylabel(f'Rating = {i}')  # Add individual y-axis labels\n",
    "    \n",
    "fig.suptitle('Boxplots of Ratio Across Ratings', fontsize=20)\n",
    "\n",
    "plt.tight_layout()\n",
    "\n",
    "plt.show()"
   ]
  },
  {
   "cell_type": "code",
   "execution_count": 50,
   "id": "78e2371f",
   "metadata": {},
   "outputs": [
    {
     "data": {
      "image/png": "[encoded data removed]",
      "text/plain": [
       "<Figure size 2200x800 with 2 Axes>"
      ]
     },
     "metadata": {},
     "output_type": "display_data"
    }
   ],
   "source": [
    "# Same boxplots as above, but one regrouping ratings 0, 1 and 2 as \"not passing Bechdel test\"\n",
    "\n",
    "fig, axes = plt.subplots(2, 1, figsize=(22, 8), sharex=True, sharey=True)\n",
    "\n",
    "sns.boxplot(x=r012['ratio'], ax=axes[0], orient='h')\n",
    "axes[0].set_ylabel(f'Rating = 0,1,2')  \n",
    "\n",
    "sns.boxplot(x=r3['ratio'], y=r3['rating'], ax=axes[1], orient='h')\n",
    "axes[1].set_ylabel(f'Rating = 3')\n",
    "\n",
    "fig.suptitle('Ratio Across Ratings', fontsize=20)\n",
    "\n",
    "plt.tight_layout()\n",
    "\n",
    "plt.show()"
   ]
  },
  {
   "cell_type": "markdown",
   "id": "0f4b083d",
   "metadata": {},
   "source": [
    "# Step 3.4 Presence of misogynistic tropes "
   ]
  },
  {
   "cell_type": "code",
   "execution_count": 52,
   "id": "6815fc99",
   "metadata": {},
   "outputs": [],
   "source": [
    "eaders_character = [\"Wikipedia movie ID\", \"Freebase movie ID\", \"Movie release date\", \"Character name\", \"Actor date of birth\", \"Actor gender\", \"Actor height (in meters)\", \"Actor ethnicity (Freebase ID)\", \"Actor name\", \"Actor age at movie release\", \"Freebase character/actor map ID\", \"Freebase character ID\", \"Freebase actor ID\"]\n",
    "\n",
    "dfm = pd.read_csv('merged_df.csv', sep=',', header=0)\n",
    "df_characters = pd.read_csv(data_folder + 'MovieSummaries/character.metadata.tsv',sep='\\t', header=None, names=headers_character)"
   ]
  },
  {
   "cell_type": "code",
   "execution_count": 54,
   "id": "c5fd5280",
   "metadata": {},
   "outputs": [
    {
     "data": {
      "text/html": [
       "<div>\n",
       "<style scoped>\n",
       "    .dataframe tbody tr th:only-of-type {\n",
       "        vertical-align: middle;\n",
       "    }\n",
       "\n",
       "    .dataframe tbody tr th {\n",
       "        vertical-align: top;\n",
       "    }\n",
       "\n",
       "    .dataframe thead th {\n",
       "        text-align: right;\n",
       "    }\n",
       "</style>\n",
       "<table border=\"1\" class=\"dataframe\">\n",
       "  <thead>\n",
       "    <tr style=\"text-align: right;\">\n",
       "      <th></th>\n",
       "      <th>char</th>\n",
       "      <th>movie</th>\n",
       "      <th>id</th>\n",
       "      <th>actor</th>\n",
       "      <th>character trope</th>\n",
       "    </tr>\n",
       "  </thead>\n",
       "  <tbody>\n",
       "    <tr>\n",
       "      <th>0</th>\n",
       "      <td>Professor Philip Brainard</td>\n",
       "      <td>Flubber</td>\n",
       "      <td>/m/0jy9q0</td>\n",
       "      <td>Robin Williams</td>\n",
       "      <td>absent_minded_professor</td>\n",
       "    </tr>\n",
       "    <tr>\n",
       "      <th>1</th>\n",
       "      <td>Professor Keenbean</td>\n",
       "      <td>Richie Rich</td>\n",
       "      <td>/m/02vchl3</td>\n",
       "      <td>Michael McShane</td>\n",
       "      <td>absent_minded_professor</td>\n",
       "    </tr>\n",
       "    <tr>\n",
       "      <th>2</th>\n",
       "      <td>Dr. Reinhardt Lane</td>\n",
       "      <td>The Shadow</td>\n",
       "      <td>/m/0k6fkc</td>\n",
       "      <td>Ian McKellen</td>\n",
       "      <td>absent_minded_professor</td>\n",
       "    </tr>\n",
       "    <tr>\n",
       "      <th>3</th>\n",
       "      <td>Dr. Harold Medford</td>\n",
       "      <td>Them!</td>\n",
       "      <td>/m/0k6_br</td>\n",
       "      <td>Edmund Gwenn</td>\n",
       "      <td>absent_minded_professor</td>\n",
       "    </tr>\n",
       "    <tr>\n",
       "      <th>4</th>\n",
       "      <td>Daniel Jackson</td>\n",
       "      <td>Stargate</td>\n",
       "      <td>/m/0k3rhh</td>\n",
       "      <td>James Spader</td>\n",
       "      <td>absent_minded_professor</td>\n",
       "    </tr>\n",
       "  </tbody>\n",
       "</table>\n",
       "</div>"
      ],
      "text/plain": [
       "                        char        movie          id            actor  \\\n",
       "0  Professor Philip Brainard      Flubber   /m/0jy9q0   Robin Williams   \n",
       "1         Professor Keenbean  Richie Rich  /m/02vchl3  Michael McShane   \n",
       "2         Dr. Reinhardt Lane   The Shadow   /m/0k6fkc     Ian McKellen   \n",
       "3         Dr. Harold Medford        Them!   /m/0k6_br     Edmund Gwenn   \n",
       "4             Daniel Jackson     Stargate   /m/0k3rhh     James Spader   \n",
       "\n",
       "           character trope  \n",
       "0  absent_minded_professor  \n",
       "1  absent_minded_professor  \n",
       "2  absent_minded_professor  \n",
       "3  absent_minded_professor  \n",
       "4  absent_minded_professor  "
      ]
     },
     "execution_count": 54,
     "metadata": {},
     "output_type": "execute_result"
    }
   ],
   "source": [
    "import json\n",
    "file_path_tropes = \"tvtropes.clusters.txt\"\n",
    "\n",
    "# Read the text file line by line\n",
    "with open(file_path_tropes, 'r') as file:\n",
    "    lines = file.readlines()\n",
    "\n",
    "# Initialize empty lists to store data\n",
    "tropes = []\n",
    "data = []\n",
    "\n",
    "# Parse each line and extract information\n",
    "for line in lines:\n",
    "    parts = line.split('\\t')\n",
    "    tropes.append(parts[0])  # Extract movie title\n",
    "    data.append(json.loads(parts[1]))  # Parse JSON-like structure\n",
    "\n",
    "# Create a DataFrame\n",
    "df = pd.DataFrame(data)\n",
    "\n",
    "# Add the movie title as a new column\n",
    "df['character trope'] = tropes\n",
    "\n",
    "# Display the DataFrame\n",
    "df.head()"
   ]
  },
  {
   "cell_type": "code",
   "execution_count": 57,
   "id": "b5888e84",
   "metadata": {},
   "outputs": [
    {
     "name": "stdout",
     "output_type": "stream",
     "text": [
      "List of Tropes: ['absent_minded_professor', 'adventurer_archaeologist', 'arrogant_kungfu_guy', 'big_man_on_campus', 'bounty_hunter', 'brainless_beauty', 'broken_bird', 'bromantic_foil', 'bruiser_with_a_soft_center', 'bully', 'byronic_hero', 'casanova', 'chanteuse', 'charmer', 'child_prodigy', 'classy_cat_burglar', 'consummate_professional', 'corrupt_corporate_executive', 'coward', 'crazy_jealous_guy', 'crazy_survivalist', 'cultured_badass', 'dean_bitterman', 'dirty_cop', 'ditz', 'doormat', 'drill_sargeant_nasty', 'dumb_blonde', 'dumb_muscle', 'eccentric_mentor', 'egomaniac_hunter', 'evil_prince', 'fastest_gun_in_the_west', 'father_to_his_men', 'final_girl', 'gadgeteer_genius', 'gentleman_thief', 'granola_person', 'grumpy_old_man', 'hardboiled_detective', 'heartbroken_badass', 'henpecked_husband', 'hitman_with_a_heart', 'jerk_jock', 'junkie_prophet', 'klutz', 'loser_protagonist', 'loveable_rogue', 'master_swordsman', 'morally_bankrupt_banker', 'officer_and_a_gentleman', 'ophelia', 'playful_hacker', 'prima_donna', 'psycho_for_hire', 'pupil_turned_to_evil', 'retired_outlaw', 'revenge', 'romantic_runnerup', 'self_made_man', 'slacker', 'stoner', 'storyteller', 'stupid_crooks', 'surfer_dude', 'the_chief', 'the_editor', 'tranquil_fury', 'trickster', 'valley_girl', 'warrior_poet', 'young_gun']\n"
     ]
    }
   ],
   "source": [
    "list_of_tropes = df['character trope'].drop_duplicates().tolist()\n",
    "print(\"List of Tropes:\", list_of_tropes)"
   ]
  },
  {
   "cell_type": "code",
   "execution_count": 62,
   "id": "f9abfef2",
   "metadata": {},
   "outputs": [],
   "source": [
    "#Select tropes in list above that can be considered to be sexist\n",
    "sexist_tropes_list = ['brainless_beauty', 'casanova', 'dumb_blonde', 'final_girl', 'ophelia', 'prima_donna', 'valley_girl']\n",
    "#select characters from tropes dataset whose tropes are in the list above\n",
    "sexist_tropes = df[df['character trope'].isin(sexist_tropes_list)]"
   ]
  },
  {
   "cell_type": "code",
   "execution_count": 63,
   "id": "2e5ef75a",
   "metadata": {},
   "outputs": [
    {
     "data": {
      "text/html": [
       "<div>\n",
       "<style scoped>\n",
       "    .dataframe tbody tr th:only-of-type {\n",
       "        vertical-align: middle;\n",
       "    }\n",
       "\n",
       "    .dataframe tbody tr th {\n",
       "        vertical-align: top;\n",
       "    }\n",
       "\n",
       "    .dataframe thead th {\n",
       "        text-align: right;\n",
       "    }\n",
       "</style>\n",
       "<table border=\"1\" class=\"dataframe\">\n",
       "  <thead>\n",
       "    <tr style=\"text-align: right;\">\n",
       "      <th></th>\n",
       "      <th>char</th>\n",
       "      <th>movie</th>\n",
       "      <th>id</th>\n",
       "      <th>actor</th>\n",
       "      <th>character trope</th>\n",
       "    </tr>\n",
       "  </thead>\n",
       "  <tbody>\n",
       "    <tr>\n",
       "      <th>35</th>\n",
       "      <td>Gemma Honeycutt</td>\n",
       "      <td>Fool's Gold</td>\n",
       "      <td>/m/04dddz5</td>\n",
       "      <td>Alexis Dziena</td>\n",
       "      <td>brainless_beauty</td>\n",
       "    </tr>\n",
       "    <tr>\n",
       "      <th>36</th>\n",
       "      <td>Matt Mateo</td>\n",
       "      <td>The Opposite of Sex</td>\n",
       "      <td>/m/02tbdw7</td>\n",
       "      <td>Ivan Sergei</td>\n",
       "      <td>brainless_beauty</td>\n",
       "    </tr>\n",
       "    <tr>\n",
       "      <th>37</th>\n",
       "      <td>Paul Metzler</td>\n",
       "      <td>Election</td>\n",
       "      <td>/m/02vdf9d</td>\n",
       "      <td>Chris Klein</td>\n",
       "      <td>brainless_beauty</td>\n",
       "    </tr>\n",
       "  </tbody>\n",
       "</table>\n",
       "</div>"
      ],
      "text/plain": [
       "               char                movie          id          actor  \\\n",
       "35  Gemma Honeycutt          Fool's Gold  /m/04dddz5  Alexis Dziena   \n",
       "36       Matt Mateo  The Opposite of Sex  /m/02tbdw7    Ivan Sergei   \n",
       "37     Paul Metzler             Election  /m/02vdf9d    Chris Klein   \n",
       "\n",
       "     character trope  \n",
       "35  brainless_beauty  \n",
       "36  brainless_beauty  \n",
       "37  brainless_beauty  "
      ]
     },
     "execution_count": 63,
     "metadata": {},
     "output_type": "execute_result"
    }
   ],
   "source": [
    "sexist_tropes.head(3)"
   ]
  },
  {
   "cell_type": "code",
   "execution_count": 64,
   "id": "070f7a09",
   "metadata": {},
   "outputs": [],
   "source": [
    "# Exctract the column of interest and the important ID to merge later\n",
    "tropes = sexist_tropes[['id','character trope']]\n",
    "\n",
    "# Merge character tropes to dataframe of actors\n",
    "dfc_tropes = pd.merge(dfc, tropes, left_on='Freebase character/actor map ID', right_on='id', how='inner')\n",
    "\n",
    "# Make new dataframe with movies containing characters classified as sexist tropes\n",
    "dfm_tropes = dfm[dfm['Wikipedia movie ID'].isin(dfc_tropes['Wikipedia movie ID'])]\n",
    "\n",
    "# Count the numbers of characters per movie who are classified as sexist tropes\n",
    "character_counts = dfc.groupby('Wikipedia movie ID')['Freebase character/actor map ID'].count().reset_index()\n",
    "character_counts.columns = ['Wikipedia movie ID', 'CharacterCount']\n",
    "\n",
    "# Add a column to the movie datframe containing the number of characters classified as sexist tropes\n",
    "dfm = pd.merge(dfm, character_counts, on='Wikipedia movie ID', how='left')"
   ]
  },
  {
   "cell_type": "code",
   "execution_count": 65,
   "id": "986d815f",
   "metadata": {},
   "outputs": [
    {
     "data": {
      "image/png": "[encoded data removed]",
      "text/plain": [
       "<Figure size 640x480 with 1 Axes>"
      ]
     },
     "metadata": {},
     "output_type": "display_data"
    }
   ],
   "source": [
    "sns.countplot(x='rating', data=dfm_tropes)\n",
    "\n",
    "# Set labels and title\n",
    "plt.xlabel('Ratings')\n",
    "plt.ylabel('Count')\n",
    "plt.title('Distribution of Ratings')\n",
    "\n",
    "# Show the plot\n",
    "plt.show()"
   ]
  },
  {
   "cell_type": "markdown",
   "id": "dfdb7c06",
   "metadata": {},
   "source": [
    "The graph above shows a high number of movies containing tropes and passing the Bechdel test. Since there are more movies passing the test in  the Bechdel  dataset, further analysis should be conducted to figure out whether tropes have an impact on whether a movie passes the Bechdel test or not. As a reminder, the assumption here is that passing the Bechdel test and containing many characters with tropes is not coherent."
   ]
  }
 ],
 "metadata": {
  "kernelspec": {
   "display_name": "Python 3 (ipykernel)",
   "language": "python",
   "name": "python3"
  },
  "language_info": {
   "codemirror_mode": {
    "name": "ipython",
    "version": 3
   },
   "file_extension": ".py",
   "mimetype": "text/x-python",
   "name": "python",
   "nbconvert_exporter": "python",
   "pygments_lexer": "ipython3",
   "version": "3.11.5"
  }
 },
 "nbformat": 4,
 "nbformat_minor": 5
}
